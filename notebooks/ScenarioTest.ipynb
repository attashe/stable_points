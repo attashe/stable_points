{
 "cells": [
  {
   "cell_type": "code",
   "execution_count": 1,
   "metadata": {},
   "outputs": [],
   "source": [
    "import numpy as np"
   ]
  },
  {
   "cell_type": "code",
   "execution_count": 4,
   "metadata": {},
   "outputs": [],
   "source": [
    "arr = np.array([\n",
    "    [1, 2, 3],\n",
    "    [3, 4, 5],\n",
    "    [5, 6, 7]\n",
    "])"
   ]
  },
  {
   "cell_type": "code",
   "execution_count": 5,
   "metadata": {},
   "outputs": [
    {
     "data": {
      "text/plain": [
       "array([[3, 1, 2],\n",
       "       [5, 3, 4],\n",
       "       [7, 5, 6]])"
      ]
     },
     "execution_count": 5,
     "metadata": {},
     "output_type": "execute_result"
    }
   ],
   "source": [
    "np.roll(arr, 1, axis=1)"
   ]
  },
  {
   "cell_type": "code",
   "execution_count": 6,
   "metadata": {},
   "outputs": [
    {
     "data": {
      "text/plain": [
       "array([[2, 3, 1],\n",
       "       [4, 5, 3],\n",
       "       [6, 7, 5]])"
      ]
     },
     "execution_count": 6,
     "metadata": {},
     "output_type": "execute_result"
    }
   ],
   "source": [
    "np.roll(arr, -1, axis=1)"
   ]
  },
  {
   "cell_type": "code",
   "execution_count": 7,
   "metadata": {},
   "outputs": [
    {
     "data": {
      "text/plain": [
       "array([[1, 2, 3],\n",
       "       [3, 4, 5],\n",
       "       [5, 6, 7]])"
      ]
     },
     "execution_count": 7,
     "metadata": {},
     "output_type": "execute_result"
    }
   ],
   "source": [
    "t = np.roll(arr, 1, axis=1)\n",
    "np.roll(t, -1, axis=1)"
   ]
  },
  {
   "cell_type": "code",
   "execution_count": 8,
   "metadata": {},
   "outputs": [
    {
     "data": {
      "text/plain": [
       "array([[1, 2, 3],\n",
       "       [3, 4, 5],\n",
       "       [5, 6, 7]])"
      ]
     },
     "execution_count": 8,
     "metadata": {},
     "output_type": "execute_result"
    }
   ],
   "source": [
    "t = np.roll(arr, 2, axis=1)\n",
    "np.roll(t, -2, axis=1)"
   ]
  },
  {
   "cell_type": "code",
   "execution_count": 1,
   "metadata": {},
   "outputs": [],
   "source": [
    "class Action:\n",
    "    \n",
    "    def __init__(self, func):\n",
    "        self.function = func\n",
    "        \n",
    "    def run(self, state, params):\n",
    "        return self.function(state, params)"
   ]
  },
  {
   "cell_type": "code",
   "execution_count": 31,
   "metadata": {},
   "outputs": [],
   "source": [
    "class Scenario:\n",
    "    \n",
    "    def __init__(self, actions):\n",
    "        self.actions = actions\n",
    "        \n",
    "    def run(self, state, params):\n",
    "        for action in self.actions:\n",
    "            state = action.run(state, params)\n",
    "        \n",
    "        return state"
   ]
  },
  {
   "cell_type": "code",
   "execution_count": 32,
   "metadata": {},
   "outputs": [],
   "source": [
    "def interpolate_int(start, end, steps):\n",
    "    return list(np.linspace(start, end, steps+2).astype(int))\n",
    "\n",
    "def interpolate_float(start, end, steps):\n",
    "    return list(np.linspace(start, end, steps+2))\n",
    "\n",
    "def interpolate_str(start, end, steps):\n",
    "    first = steps // 2\n",
    "    return [start,] * (first + 1) + [end,] * (steps - first + 1)\n",
    "\n",
    "def interpolate_vec(start, end, steps):\n",
    "    raise Exception('Not implemented error')"
   ]
  },
  {
   "cell_type": "code",
   "execution_count": 33,
   "metadata": {},
   "outputs": [],
   "source": [
    "def test_interp():\n",
    "    s = 1\n",
    "    e = 10\n",
    "    i = interpolate_int(s, e, 8)\n",
    "    print(i)\n",
    "    assert i == [1, 2, 3, 4, 5, 6, 7, 8, 9, 10]\n",
    "    \n",
    "    s = 1\n",
    "    e = 2\n",
    "    i = interpolate_float(s, e, 1)\n",
    "    print(i)\n",
    "    assert i == [1, 1.5, 2]\n",
    "    \n",
    "    s = 'first'\n",
    "    e = 'second'\n",
    "    i = interpolate_str(s, e, 3)\n",
    "    print(i)\n",
    "    assert i == ['first',] * 2 + ['second',] * 3"
   ]
  },
  {
   "cell_type": "code",
   "execution_count": 34,
   "metadata": {},
   "outputs": [
    {
     "name": "stdout",
     "output_type": "stream",
     "text": [
      "[1, 2, 3, 4, 5, 6, 7, 8, 9, 10]\n",
      "[1.0, 1.5, 2.0]\n",
      "['first', 'first', 'second', 'second', 'second']\n"
     ]
    }
   ],
   "source": [
    "test_interp()"
   ]
  },
  {
   "cell_type": "code",
   "execution_count": 56,
   "metadata": {},
   "outputs": [],
   "source": [
    "class ScenarioRunner:\n",
    "    \n",
    "    def __init__(self, scenario):\n",
    "        self.scenario = scenario\n",
    "        \n",
    "    def run(self, init_params, end_params, init_state, steps):\n",
    "        params_generator = Interpolator.interp(init_params, end_params, steps)\n",
    "        \n",
    "        state = init_state.copy()\n",
    "        for params in params_generator:\n",
    "            print(f'{state=}')\n",
    "            print(f'{params=}')\n",
    "            state = self.scenario.run(state, params)\n",
    "        \n",
    "        return state"
   ]
  },
  {
   "cell_type": "code",
   "execution_count": null,
   "metadata": {},
   "outputs": [],
   "source": []
  },
  {
   "cell_type": "code",
   "execution_count": 57,
   "metadata": {},
   "outputs": [],
   "source": [
    "class Interpolator:\n",
    "    \n",
    "    def interp(start, end, steps):\n",
    "        yield start\n",
    "        \n",
    "        all_states_dict = {}\n",
    "        \n",
    "        for k in start.keys():\n",
    "            vs = start[k]\n",
    "            ve = end[k]\n",
    "            assert type(vs) == type(ve), 'Type of start and end values must be same'\n",
    "            \n",
    "            if vs == ve:\n",
    "                interps = [vs,] * (steps + 2) \n",
    "            # TODO: test with different int types\n",
    "            if type(vs) is int:\n",
    "                interps = interpolate_int(vs, ve, steps)\n",
    "            elif type(vs) is float:\n",
    "                interps = interpolate_float(vs, ve, steps)\n",
    "            elif type(vs) is str:\n",
    "                interps = interpolate_str(vs, ve, steps)\n",
    "            else:\n",
    "                raise Exception('Not implemented error')\n",
    "\n",
    "            all_states_dict[k] = interps\n",
    "        \n",
    "        print('All different states:')\n",
    "        print(all_states_dict)\n",
    "        \n",
    "        state = start.copy()\n",
    "        for i in range(steps):\n",
    "            for k in state.keys():\n",
    "                state[k] = all_states_dict[k][i+1]\n",
    "            \n",
    "            yield state\n",
    "        \n",
    "        yield end"
   ]
  },
  {
   "cell_type": "code",
   "execution_count": 60,
   "metadata": {},
   "outputs": [],
   "source": [
    "def func_1(state: dict, params: dict):\n",
    "    state['x'] = state['result']\n",
    "    state['y'] = state['x'] * params['a']\n",
    "    return state\n",
    "\n",
    "def func_2(state: dict, params: dict):\n",
    "    state['result'] = state['x'] + state['y'] + params['b']\n",
    "    return state"
   ]
  },
  {
   "cell_type": "code",
   "execution_count": 61,
   "metadata": {},
   "outputs": [
    {
     "name": "stdout",
     "output_type": "stream",
     "text": [
      "state={'x': 0, 'y': 0, 'result': 0}\n",
      "params={'a': 5, 'b': 10}\n",
      "All different states:\n",
      "{'a': [5, 6, 7, 8, 10], 'b': [10, 7, 5, 3, 1]}\n",
      "state={'x': 0, 'y': 0, 'result': 10}\n",
      "params={'a': 6, 'b': 7}\n",
      "state={'x': 10, 'y': 60, 'result': 77}\n",
      "params={'a': 7, 'b': 5}\n",
      "state={'x': 77, 'y': 539, 'result': 621}\n",
      "params={'a': 8, 'b': 3}\n",
      "state={'x': 621, 'y': 4968, 'result': 5592}\n",
      "params={'a': 10, 'b': 1}\n"
     ]
    }
   ],
   "source": [
    "action1 = Action(func_1)\n",
    "action2 = Action(func_2)\n",
    "\n",
    "init_params = {\n",
    "    'a': 5,\n",
    "    'b': 10,\n",
    "}\n",
    "\n",
    "end_params = {\n",
    "    'a': 10,\n",
    "    'b': 1,\n",
    "}\n",
    "\n",
    "init_state = {\n",
    "    'x': 0,\n",
    "    'y': 0,\n",
    "    'result': 0\n",
    "}\n",
    "\n",
    "steps = 3\n",
    "\n",
    "scenario = Scenario([action1, action2])\n",
    "\n",
    "scenario_runner = ScenarioRunner(scenario)\n",
    "\n",
    "result_state = scenario_runner.run(init_params, end_params, init_state, steps)"
   ]
  },
  {
   "cell_type": "code",
   "execution_count": 62,
   "metadata": {},
   "outputs": [
    {
     "data": {
      "text/plain": [
       "{'x': 5592, 'y': 55920, 'result': 61513}"
      ]
     },
     "execution_count": 62,
     "metadata": {},
     "output_type": "execute_result"
    }
   ],
   "source": [
    "result_state"
   ]
  },
  {
   "cell_type": "code",
   "execution_count": 63,
   "metadata": {},
   "outputs": [
    {
     "name": "stderr",
     "output_type": "stream",
     "text": [
      "Cloning into 'ResizeRight'...\n"
     ]
    }
   ],
   "source": [
    "!git clone https://github.com/assafshocher/ResizeRight.git"
   ]
  },
  {
   "cell_type": "code",
   "execution_count": null,
   "metadata": {},
   "outputs": [],
   "source": []
  }
 ],
 "metadata": {
  "kernelspec": {
   "display_name": "Python 3",
   "language": "python",
   "name": "python3"
  },
  "language_info": {
   "codemirror_mode": {
    "name": "ipython",
    "version": 3
   },
   "file_extension": ".py",
   "mimetype": "text/x-python",
   "name": "python",
   "nbconvert_exporter": "python",
   "pygments_lexer": "ipython3",
   "version": "3.9.1"
  }
 },
 "nbformat": 4,
 "nbformat_minor": 4
}
