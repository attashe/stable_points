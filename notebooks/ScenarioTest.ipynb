{
 "cells": [
  {
   "cell_type": "code",
   "execution_count": 1,
   "metadata": {},
   "outputs": [],
   "source": [
    "import numpy as np"
   ]
  },
  {
   "cell_type": "code",
   "execution_count": 4,
   "metadata": {},
   "outputs": [],
   "source": [
    "arr = np.array([\n",
    "    [1, 2, 3],\n",
    "    [3, 4, 5],\n",
    "    [5, 6, 7]\n",
    "])"
   ]
  },
  {
   "cell_type": "code",
   "execution_count": 5,
   "metadata": {},
   "outputs": [
    {
     "data": {
      "text/plain": [
       "array([[3, 1, 2],\n",
       "       [5, 3, 4],\n",
       "       [7, 5, 6]])"
      ]
     },
     "execution_count": 5,
     "metadata": {},
     "output_type": "execute_result"
    }
   ],
   "source": [
    "np.roll(arr, 1, axis=1)"
   ]
  },
  {
   "cell_type": "code",
   "execution_count": 6,
   "metadata": {},
   "outputs": [
    {
     "data": {
      "text/plain": [
       "array([[2, 3, 1],\n",
       "       [4, 5, 3],\n",
       "       [6, 7, 5]])"
      ]
     },
     "execution_count": 6,
     "metadata": {},
     "output_type": "execute_result"
    }
   ],
   "source": [
    "np.roll(arr, -1, axis=1)"
   ]
  },
  {
   "cell_type": "code",
   "execution_count": 7,
   "metadata": {},
   "outputs": [
    {
     "data": {
      "text/plain": [
       "array([[1, 2, 3],\n",
       "       [3, 4, 5],\n",
       "       [5, 6, 7]])"
      ]
     },
     "execution_count": 7,
     "metadata": {},
     "output_type": "execute_result"
    }
   ],
   "source": [
    "t = np.roll(arr, 1, axis=1)\n",
    "np.roll(t, -1, axis=1)"
   ]
  },
  {
   "cell_type": "code",
   "execution_count": 8,
   "metadata": {},
   "outputs": [
    {
     "data": {
      "text/plain": [
       "array([[1, 2, 3],\n",
       "       [3, 4, 5],\n",
       "       [5, 6, 7]])"
      ]
     },
     "execution_count": 8,
     "metadata": {},
     "output_type": "execute_result"
    }
   ],
   "source": [
    "t = np.roll(arr, 2, axis=1)\n",
    "np.roll(t, -2, axis=1)"
   ]
  },
  {
   "cell_type": "code",
   "execution_count": 1,
   "metadata": {},
   "outputs": [],
   "source": [
    "class Action:\n",
    "    \n",
    "    def __init__(self, func):\n",
    "        self.function = func\n",
    "        \n",
    "    def run(self, state, params):\n",
    "        return self.function(state, params)"
   ]
  },
  {
   "cell_type": "code",
   "execution_count": 31,
   "metadata": {},
   "outputs": [],
   "source": [
    "class Scenario:\n",
    "    \n",
    "    def __init__(self, actions):\n",
    "        self.actions = actions\n",
    "        \n",
    "    def run(self, state, params):\n",
    "        for action in self.actions:\n",
    "            state = action.run(state, params)\n",
    "        \n",
    "        return state"
   ]
  },
  {
   "cell_type": "code",
   "execution_count": 32,
   "metadata": {},
   "outputs": [],
   "source": [
    "def interpolate_int(start, end, steps):\n",
    "    return list(np.linspace(start, end, steps+2).astype(int))\n",
    "\n",
    "def interpolate_float(start, end, steps):\n",
    "    return list(np.linspace(start, end, steps+2))\n",
    "\n",
    "def interpolate_str(start, end, steps):\n",
    "    first = steps // 2\n",
    "    return [start,] * (first + 1) + [end,] * (steps - first + 1)\n",
    "\n",
    "def interpolate_vec(start, end, steps):\n",
    "    raise Exception('Not implemented error')"
   ]
  },
  {
   "cell_type": "code",
   "execution_count": 33,
   "metadata": {},
   "outputs": [],
   "source": [
    "def test_interp():\n",
    "    s = 1\n",
    "    e = 10\n",
    "    i = interpolate_int(s, e, 8)\n",
    "    print(i)\n",
    "    assert i == [1, 2, 3, 4, 5, 6, 7, 8, 9, 10]\n",
    "    \n",
    "    s = 1\n",
    "    e = 2\n",
    "    i = interpolate_float(s, e, 1)\n",
    "    print(i)\n",
    "    assert i == [1, 1.5, 2]\n",
    "    \n",
    "    s = 'first'\n",
    "    e = 'second'\n",
    "    i = interpolate_str(s, e, 3)\n",
    "    print(i)\n",
    "    assert i == ['first',] * 2 + ['second',] * 3"
   ]
  },
  {
   "cell_type": "code",
   "execution_count": 34,
   "metadata": {},
   "outputs": [
    {
     "name": "stdout",
     "output_type": "stream",
     "text": [
      "[1, 2, 3, 4, 5, 6, 7, 8, 9, 10]\n",
      "[1.0, 1.5, 2.0]\n",
      "['first', 'first', 'second', 'second', 'second']\n"
     ]
    }
   ],
   "source": [
    "test_interp()"
   ]
  },
  {
   "cell_type": "code",
   "execution_count": 56,
   "metadata": {},
   "outputs": [],
   "source": [
    "class ScenarioRunner:\n",
    "    \n",
    "    def __init__(self, scenario):\n",
    "        self.scenario = scenario\n",
    "        \n",
    "    def run(self, init_params, end_params, init_state, steps):\n",
    "        params_generator = Interpolator.interp(init_params, end_params, steps)\n",
    "        \n",
    "        state = init_state.copy()\n",
    "        for params in params_generator:\n",
    "            print(f'{state=}')\n",
    "            print(f'{params=}')\n",
    "            state = self.scenario.run(state, params)\n",
    "        \n",
    "        return state"
   ]
  },
  {
   "cell_type": "code",
   "execution_count": 57,
   "metadata": {},
   "outputs": [],
   "source": [
    "class Interpolator:\n",
    "    \n",
    "    def interp(start, end, steps):\n",
    "        yield start\n",
    "        \n",
    "        all_states_dict = {}\n",
    "        \n",
    "        for k in start.keys():\n",
    "            vs = start[k]\n",
    "            ve = end[k]\n",
    "            assert type(vs) == type(ve), 'Type of start and end values must be same'\n",
    "            \n",
    "            if vs == ve:\n",
    "                interps = [vs,] * (steps + 2) \n",
    "            # TODO: test with different int types\n",
    "            if type(vs) is int:\n",
    "                interps = interpolate_int(vs, ve, steps)\n",
    "            elif type(vs) is float:\n",
    "                interps = interpolate_float(vs, ve, steps)\n",
    "            elif type(vs) is str:\n",
    "                interps = interpolate_str(vs, ve, steps)\n",
    "            else:\n",
    "                raise Exception('Not implemented error')\n",
    "\n",
    "            all_states_dict[k] = interps\n",
    "        \n",
    "        print('All different states:')\n",
    "        print(all_states_dict)\n",
    "        \n",
    "        state = start.copy()\n",
    "        for i in range(steps):\n",
    "            for k in state.keys():\n",
    "                state[k] = all_states_dict[k][i+1]\n",
    "            \n",
    "            yield state\n",
    "        \n",
    "        yield end"
   ]
  },
  {
   "cell_type": "code",
   "execution_count": 60,
   "metadata": {},
   "outputs": [],
   "source": [
    "def func_1(state: dict, params: dict):\n",
    "    state['x'] = state['result']\n",
    "    state['y'] = state['x'] * params['a']\n",
    "    return state\n",
    "\n",
    "def func_2(state: dict, params: dict):\n",
    "    state['result'] = state['x'] + state['y'] + params['b']\n",
    "    return state"
   ]
  },
  {
   "cell_type": "code",
   "execution_count": 61,
   "metadata": {},
   "outputs": [
    {
     "name": "stdout",
     "output_type": "stream",
     "text": [
      "state={'x': 0, 'y': 0, 'result': 0}\n",
      "params={'a': 5, 'b': 10}\n",
      "All different states:\n",
      "{'a': [5, 6, 7, 8, 10], 'b': [10, 7, 5, 3, 1]}\n",
      "state={'x': 0, 'y': 0, 'result': 10}\n",
      "params={'a': 6, 'b': 7}\n",
      "state={'x': 10, 'y': 60, 'result': 77}\n",
      "params={'a': 7, 'b': 5}\n",
      "state={'x': 77, 'y': 539, 'result': 621}\n",
      "params={'a': 8, 'b': 3}\n",
      "state={'x': 621, 'y': 4968, 'result': 5592}\n",
      "params={'a': 10, 'b': 1}\n"
     ]
    }
   ],
   "source": [
    "action1 = Action(func_1)\n",
    "action2 = Action(func_2)\n",
    "\n",
    "init_params = {\n",
    "    'a': 5,\n",
    "    'b': 10,\n",
    "}\n",
    "\n",
    "end_params = {\n",
    "    'a': 10,\n",
    "    'b': 1,\n",
    "}\n",
    "\n",
    "init_state = {\n",
    "    'x': 0,\n",
    "    'y': 0,\n",
    "    'result': 0\n",
    "}\n",
    "\n",
    "steps = 3\n",
    "\n",
    "scenario = Scenario([action1, action2])\n",
    "\n",
    "scenario_runner = ScenarioRunner(scenario)\n",
    "\n",
    "result_state = scenario_runner.run(init_params, end_params, init_state, steps)"
   ]
  },
  {
   "cell_type": "code",
   "execution_count": 62,
   "metadata": {},
   "outputs": [
    {
     "data": {
      "text/plain": [
       "{'x': 5592, 'y': 55920, 'result': 61513}"
      ]
     },
     "execution_count": 62,
     "metadata": {},
     "output_type": "execute_result"
    }
   ],
   "source": [
    "result_state"
   ]
  },
  {
   "cell_type": "code",
   "execution_count": 63,
   "metadata": {},
   "outputs": [
    {
     "name": "stderr",
     "output_type": "stream",
     "text": [
      "Cloning into 'ResizeRight'...\n"
     ]
    }
   ],
   "source": [
    "!git clone https://github.com/assafshocher/ResizeRight.git"
   ]
  },
  {
   "cell_type": "code",
   "execution_count": 1,
   "metadata": {},
   "outputs": [],
   "source": [
    "import numpy as np"
   ]
  },
  {
   "cell_type": "code",
   "execution_count": 2,
   "metadata": {},
   "outputs": [],
   "source": [
    "points = np.random.rand(100, 3)\n",
    "threshold = 0.5"
   ]
  },
  {
   "cell_type": "code",
   "execution_count": 7,
   "metadata": {},
   "outputs": [],
   "source": [
    "percentile = np.percentile(points[:, 2], threshold * 100)\n",
    "\n",
    "indices = points[:, 2] >= percentile"
   ]
  },
  {
   "cell_type": "code",
   "execution_count": 8,
   "metadata": {},
   "outputs": [
    {
     "data": {
      "text/plain": [
       "(50, 3)"
      ]
     },
     "execution_count": 8,
     "metadata": {},
     "output_type": "execute_result"
    }
   ],
   "source": [
    "points[indices].shape"
   ]
  },
  {
   "cell_type": "code",
   "execution_count": 11,
   "metadata": {},
   "outputs": [],
   "source": [
    "def foo(inputs):\n",
    "    print(f'Inputs: {inputs}')\n",
    "    print('Func was called')\n",
    "    \n",
    "    return 5"
   ]
  },
  {
   "cell_type": "code",
   "execution_count": 79,
   "metadata": {},
   "outputs": [],
   "source": [
    "from typing import List, Callable, Dict\n",
    "from queue import Queue\n",
    "\n",
    "# TODO change list of inputs values to dictionary\n",
    "# Возможно, что этот огород не нужен и может быть реализован через EventPropagation, но в этом не уверен\n",
    "class Node:\n",
    "    _all_nodes = []\n",
    "    \n",
    "    def __init__(self, func: Callable[[Dict], None], name='node', outputs=[], inputs=[]):\n",
    "        self.name = name\n",
    "        self.outputs: List[Node] = outputs\n",
    "        self.inputs: List[Node] = inputs\n",
    "        self.func = func\n",
    "        self.res = None\n",
    "        \n",
    "        # For debug\n",
    "        Node._all_nodes.append(self)\n",
    "        \n",
    "    def add_child(self, func, name='node', inputs=[]):\n",
    "        node = Node(func, name=name, outputs=[], inputs=[self,]+list(inputs))\n",
    "        self.outputs.append(node)\n",
    "        for n in inputs:\n",
    "            n.outputs.append(node)\n",
    "        return node\n",
    "        \n",
    "    def run(self):\n",
    "        self.res = self.func([node.res for node in self.inputs])\n",
    "        \n",
    "    @staticmethod\n",
    "    def add_link(node1, node2):\n",
    "        assert node1 in Node._all_nodes and node2 in Node._all_nodes, 'Nodes consistency error'\n",
    "        \n",
    "    @staticmethod\n",
    "    def remove(node):\n",
    "        outputs = node.outputs\n",
    "        inputs = node.inputs\n",
    "        \n",
    "        # Remove all connections\n",
    "        for o in outputs:\n",
    "            o.inputs.remove(o)\n",
    "            \n",
    "        for i in inputs:\n",
    "            i.outputs.remove(i)\n",
    "            \n",
    "        Node._all_nodes.remove(node)\n",
    "\n",
    "class Tree:\n",
    "    \n",
    "    def __init__(self, root):\n",
    "        self.root = root\n",
    "    \n",
    "    def clear_tree(self):\n",
    "        pass\n",
    "    \n",
    "    def calculate(self):\n",
    "        stack = list()\n",
    "        \n",
    "        self.root.run()\n",
    "        \n",
    "        stack += self.root.outputs\n",
    "        \n",
    "        while len(stack) > 0:\n",
    "            node = stack.pop()\n",
    "            \n",
    "            is_none = [n for n in node.inputs if n.res is None]\n",
    "            if len(is_none) > 0:\n",
    "                stack.append(node)\n",
    "                \n",
    "                for n in is_none:\n",
    "                    stack.append(n)\n",
    "            else:\n",
    "                if node.res is None:\n",
    "                    node.run()\n",
    "                    for n in node.outputs:\n",
    "                        stack.append(n)\n",
    "    def add_node(self):\n",
    "        pass\n",
    "    \n",
    "    def print_tree(self):\n",
    "        print(root.name)\n",
    "        n = root\n",
    "        \n",
    "        cur_level = n.outputs\n",
    "        next_level = []\n",
    "        \n",
    "        # Iterate every deep level\n",
    "        while True:\n",
    "            s1 = ''\n",
    "            s2 = ''\n",
    "            for child in cur_level:\n",
    "                s1 += '|\\t'\n",
    "                s2 += child.name + '\\t'\n",
    "                \n",
    "                next_level += child.outputs\n",
    "            print(s1)\n",
    "            print(s2)\n",
    "            if len(next_level) == 0:\n",
    "                break\n",
    "                \n",
    "            cur_level = set(next_level)\n",
    "            next_level.clear()"
   ]
  },
  {
   "cell_type": "code",
   "execution_count": 80,
   "metadata": {},
   "outputs": [],
   "source": [
    "root = Node(foo, name='root')\n",
    "\n",
    "c1 = root.add_child(foo, name='c1')\n",
    "c2 = root.add_child(foo, name='c2')\n",
    "\n",
    "c3 = c1.add_child(foo, name='c3', inputs=(c2,))\n",
    "c4 = c2.add_child(foo, name='c4')\n",
    "\n",
    "tree = Tree(root)"
   ]
  },
  {
   "cell_type": "code",
   "execution_count": 81,
   "metadata": {},
   "outputs": [
    {
     "name": "stdout",
     "output_type": "stream",
     "text": [
      "{'name': 'root', 'outputs': [<__main__.Node object at 0x000001F7EC14DAF0>, <__main__.Node object at 0x000001F7EC14D700>], 'inputs': [], 'func': <function foo at 0x000001F7EABD9A60>, 'res': None}\n",
      "{'name': 'c1', 'outputs': [<__main__.Node object at 0x000001F7EC14D820>], 'inputs': [<__main__.Node object at 0x000001F7EC14D0D0>], 'func': <function foo at 0x000001F7EABD9A60>, 'res': None}\n",
      "{'name': 'c2', 'outputs': [<__main__.Node object at 0x000001F7EC14D820>, <__main__.Node object at 0x000001F7EC14DAC0>], 'inputs': [<__main__.Node object at 0x000001F7EC14D0D0>], 'func': <function foo at 0x000001F7EABD9A60>, 'res': None}\n",
      "{'name': 'c3', 'outputs': [], 'inputs': [<__main__.Node object at 0x000001F7EC14DAF0>, <__main__.Node object at 0x000001F7EC14D700>], 'func': <function foo at 0x000001F7EABD9A60>, 'res': None}\n",
      "{'name': 'c4', 'outputs': [], 'inputs': [<__main__.Node object at 0x000001F7EC14D700>], 'func': <function foo at 0x000001F7EABD9A60>, 'res': None}\n"
     ]
    }
   ],
   "source": [
    "for n in Node._all_nodes:\n",
    "    print(n.__dict__)"
   ]
  },
  {
   "cell_type": "code",
   "execution_count": 82,
   "metadata": {},
   "outputs": [
    {
     "name": "stdout",
     "output_type": "stream",
     "text": [
      "root\n",
      "|\t|\t\n",
      "c1\tc2\t\n",
      "|\t|\t\n",
      "c3\tc4\t\n"
     ]
    }
   ],
   "source": [
    "tree.print_tree()"
   ]
  },
  {
   "cell_type": "code",
   "execution_count": 50,
   "metadata": {},
   "outputs": [
    {
     "name": "stdout",
     "output_type": "stream",
     "text": [
      "Inputs: []\n",
      "Func was called\n",
      "Inputs: [5]\n",
      "Func was called\n",
      "Inputs: [5]\n",
      "Func was called\n",
      "Inputs: [5]\n",
      "Func was called\n",
      "Inputs: [5, 5]\n",
      "Func was called\n"
     ]
    }
   ],
   "source": [
    "tree.calculate()"
   ]
  },
  {
   "cell_type": "code",
   "execution_count": 51,
   "metadata": {},
   "outputs": [
    {
     "name": "stdout",
     "output_type": "stream",
     "text": [
      "{'outputs': [<__main__.Node object at 0x000001F7EABE35E0>, <__main__.Node object at 0x000001F7EABE3C10>], 'inputs': [], 'func': <function foo at 0x000001F7EABD9A60>, 'res': 5}\n",
      "{'outputs': [<__main__.Node object at 0x000001F7EABE3130>], 'inputs': [<__main__.Node object at 0x000001F7EABE3FD0>], 'func': <function foo at 0x000001F7EABD9A60>, 'res': 5}\n",
      "{'outputs': [<__main__.Node object at 0x000001F7EABE3130>, <__main__.Node object at 0x000001F7EABE3160>], 'inputs': [<__main__.Node object at 0x000001F7EABE3FD0>], 'func': <function foo at 0x000001F7EABD9A60>, 'res': 5}\n",
      "{'outputs': [], 'inputs': [<__main__.Node object at 0x000001F7EABE35E0>, <__main__.Node object at 0x000001F7EABE3C10>], 'func': <function foo at 0x000001F7EABD9A60>, 'res': 5}\n",
      "{'outputs': [], 'inputs': [<__main__.Node object at 0x000001F7EABE3C10>], 'func': <function foo at 0x000001F7EABD9A60>, 'res': 5}\n"
     ]
    }
   ],
   "source": [
    "for n in Node._all_nodes:\n",
    "    print(n.__dict__)"
   ]
  },
  {
   "cell_type": "code",
   "execution_count": 52,
   "metadata": {},
   "outputs": [],
   "source": [
    "import huggingface_hub"
   ]
  },
  {
   "cell_type": "code",
   "execution_count": 53,
   "metadata": {},
   "outputs": [
    {
     "name": "stdout",
     "output_type": "stream",
     "text": [
      " ’®¬ ў гбва®©бвўҐ E Ё¬ҐҐв ¬ҐвЄг New SSD\n",
      " ‘ҐаЁ©­л© ­®¬Ґа в®¬ : 1C8F-4F04\n",
      "\n",
      " ‘®¤Ґа¦Ё¬®Ґ Ї ЇЄЁ E:\\GitHub\\stable_points\\notebooks\n",
      "\n",
      "27.03.2023  19:51    <DIR>          .\n",
      "27.03.2023  19:51    <DIR>          ..\n",
      "22.03.2023  19:32    <DIR>          .ipynb_checkpoints\n",
      "27.03.2023  19:51            16я467 ScenarioTest.ipynb\n",
      "               1 д ©«®ў         16я467 Ў ©в\n",
      "               3 Ї Ї®Є  41я460я760я576 Ў ©в бў®Ў®¤­®\n"
     ]
    }
   ],
   "source": [
    "!dir"
   ]
  },
  {
   "cell_type": "code",
   "execution_count": 55,
   "metadata": {},
   "outputs": [
    {
     "data": {
      "application/vnd.jupyter.widget-view+json": {
       "model_id": "2db4200f3501458fbc841a0db46738f7",
       "version_major": 2,
       "version_minor": 0
      },
      "text/plain": [
       "Fetching 42 files:   0%|          | 0/42 [00:00<?, ?it/s]"
      ]
     },
     "metadata": {},
     "output_type": "display_data"
    },
    {
     "data": {
      "application/vnd.jupyter.widget-view+json": {
       "model_id": "9319ab25fb424c209c7f26eb6b655f9d",
       "version_major": 2,
       "version_minor": 0
      },
      "text/plain": [
       "Downloading (…)00001-of-00033.bin\";:   0%|          | 0.00/405M [00:00<?, ?B/s]"
      ]
     },
     "metadata": {},
     "output_type": "display_data"
    },
    {
     "data": {
      "application/vnd.jupyter.widget-view+json": {
       "model_id": "7f8a24d552764d23b1d9137c9297d270",
       "version_major": 2,
       "version_minor": 0
      },
      "text/plain": [
       "Downloading (…)00003-of-00033.bin\";:   0%|          | 0.00/405M [00:00<?, ?B/s]"
      ]
     },
     "metadata": {},
     "output_type": "display_data"
    },
    {
     "data": {
      "application/vnd.jupyter.widget-view+json": {
       "model_id": "787e06653564403aa4c0ada71a5ecfa6",
       "version_major": 2,
       "version_minor": 0
      },
      "text/plain": [
       "Downloading (…)00002-of-00033.bin\";:   0%|          | 0.00/405M [00:00<?, ?B/s]"
      ]
     },
     "metadata": {},
     "output_type": "display_data"
    },
    {
     "data": {
      "application/vnd.jupyter.widget-view+json": {
       "model_id": "1cfd783f357041738db68c23c11af33e",
       "version_major": 2,
       "version_minor": 0
      },
      "text/plain": [
       "Downloading (…)a1348/.gitattributes:   0%|          | 0.00/1.48k [00:00<?, ?B/s]"
      ]
     },
     "metadata": {},
     "output_type": "display_data"
    },
    {
     "data": {
      "application/vnd.jupyter.widget-view+json": {
       "model_id": "7381d9eca8be458b8e031a6366c8d082",
       "version_major": 2,
       "version_minor": 0
      },
      "text/plain": [
       "Downloading (…)2c6a1348/config.json:   0%|          | 0.00/427 [00:00<?, ?B/s]"
      ]
     },
     "metadata": {},
     "output_type": "display_data"
    },
    {
     "data": {
      "application/vnd.jupyter.widget-view+json": {
       "model_id": "f72ac2ae9b264c62bd82690955e20287",
       "version_major": 2,
       "version_minor": 0
      },
      "text/plain": [
       "Downloading (…)7c2c6a1348/README.md:   0%|          | 0.00/8.31k [00:00<?, ?B/s]"
      ]
     },
     "metadata": {},
     "output_type": "display_data"
    },
    {
     "data": {
      "application/vnd.jupyter.widget-view+json": {
       "model_id": "7f34566b95234dbbaeaa72dea0067eb1",
       "version_major": 2,
       "version_minor": 0
      },
      "text/plain": [
       "Downloading (…)neration_config.json:   0%|          | 0.00/124 [00:00<?, ?B/s]"
      ]
     },
     "metadata": {},
     "output_type": "display_data"
    },
    {
     "data": {
      "application/vnd.jupyter.widget-view+json": {
       "model_id": "53ecde36f85a4386a1e3f19e364e7bab",
       "version_major": 2,
       "version_minor": 0
      },
      "text/plain": [
       "Downloading (…)167c2c6a1348/LICENSE:   0%|          | 0.00/10.6k [00:00<?, ?B/s]"
      ]
     },
     "metadata": {},
     "output_type": "display_data"
    },
    {
     "name": "stderr",
     "output_type": "stream",
     "text": [
      "c:\\users\\yamih\\appdata\\local\\programs\\python\\python39\\lib\\site-packages\\huggingface_hub\\file_download.py:129: UserWarning: `huggingface_hub` cache-system uses symlinks by default to efficiently store duplicated files but your machine does not support them in J:\\Weights\\llama-7b-hf. Caching files will still work but in a degraded version that might require more space on your disk. This warning can be disabled by setting the `HF_HUB_DISABLE_SYMLINKS_WARNING` environment variable. For more details, see https://huggingface.co/docs/huggingface_hub/how-to-cache#limitations.\n",
      "To support symlinks on Windows, you either need to activate Developer Mode or to run Python as an administrator. In order to see activate developer mode, see this article: https://docs.microsoft.com/en-us/windows/apps/get-started/enable-your-device-for-development\n",
      "  warnings.warn(message)\n"
     ]
    },
    {
     "data": {
      "application/vnd.jupyter.widget-view+json": {
       "model_id": "6c82b04525f84bec99fafb4dd4c91689",
       "version_major": 2,
       "version_minor": 0
      },
      "text/plain": [
       "Downloading (…)00004-of-00033.bin\";:   0%|          | 0.00/405M [00:00<?, ?B/s]"
      ]
     },
     "metadata": {},
     "output_type": "display_data"
    },
    {
     "data": {
      "application/vnd.jupyter.widget-view+json": {
       "model_id": "738792d262d14581850609cef2cddd1c",
       "version_major": 2,
       "version_minor": 0
      },
      "text/plain": [
       "Downloading (…)00006-of-00033.bin\";:   0%|          | 0.00/405M [00:00<?, ?B/s]"
      ]
     },
     "metadata": {},
     "output_type": "display_data"
    },
    {
     "data": {
      "application/vnd.jupyter.widget-view+json": {
       "model_id": "fabecc17763745dc87da6f4f33c53450",
       "version_major": 2,
       "version_minor": 0
      },
      "text/plain": [
       "Downloading (…)00005-of-00033.bin\";:   0%|          | 0.00/405M [00:00<?, ?B/s]"
      ]
     },
     "metadata": {},
     "output_type": "display_data"
    },
    {
     "data": {
      "application/vnd.jupyter.widget-view+json": {
       "model_id": "457db633722741c986dca7c891351876",
       "version_major": 2,
       "version_minor": 0
      },
      "text/plain": [
       "Downloading (…)00008-of-00033.bin\";:   0%|          | 0.00/405M [00:00<?, ?B/s]"
      ]
     },
     "metadata": {},
     "output_type": "display_data"
    },
    {
     "data": {
      "application/vnd.jupyter.widget-view+json": {
       "model_id": "20020842f8e542dfaeaf2639dc278423",
       "version_major": 2,
       "version_minor": 0
      },
      "text/plain": [
       "Downloading (…)00007-of-00033.bin\";:   0%|          | 0.00/405M [00:00<?, ?B/s]"
      ]
     },
     "metadata": {},
     "output_type": "display_data"
    },
    {
     "data": {
      "application/vnd.jupyter.widget-view+json": {
       "model_id": "8e869c884e0943bb928cf49e4985d17f",
       "version_major": 2,
       "version_minor": 0
      },
      "text/plain": [
       "Downloading (…)00015-of-00033.bin\";:   0%|          | 0.00/405M [00:00<?, ?B/s]"
      ]
     },
     "metadata": {},
     "output_type": "display_data"
    },
    {
     "data": {
      "application/vnd.jupyter.widget-view+json": {
       "model_id": "2484634dc2a54c2fb2ee022701b60a89",
       "version_major": 2,
       "version_minor": 0
      },
      "text/plain": [
       "Downloading (…)00012-of-00033.bin\";:   0%|          | 0.00/405M [00:00<?, ?B/s]"
      ]
     },
     "metadata": {},
     "output_type": "display_data"
    },
    {
     "data": {
      "application/vnd.jupyter.widget-view+json": {
       "model_id": "c599ea4f3c3d44e6bc6ba8430c85e897",
       "version_major": 2,
       "version_minor": 0
      },
      "text/plain": [
       "Downloading (…)00010-of-00033.bin\";:   0%|          | 0.00/405M [00:00<?, ?B/s]"
      ]
     },
     "metadata": {},
     "output_type": "display_data"
    },
    {
     "data": {
      "application/vnd.jupyter.widget-view+json": {
       "model_id": "bca2793ee9264c4d9a7eb7ef900b0b84",
       "version_major": 2,
       "version_minor": 0
      },
      "text/plain": [
       "Downloading (…)00009-of-00033.bin\";:   0%|          | 0.00/405M [00:00<?, ?B/s]"
      ]
     },
     "metadata": {},
     "output_type": "display_data"
    },
    {
     "data": {
      "application/vnd.jupyter.widget-view+json": {
       "model_id": "e5f64377cd564ab29a8e1a7195ca97e7",
       "version_major": 2,
       "version_minor": 0
      },
      "text/plain": [
       "Downloading (…)00011-of-00033.bin\";:   0%|          | 0.00/405M [00:00<?, ?B/s]"
      ]
     },
     "metadata": {},
     "output_type": "display_data"
    },
    {
     "data": {
      "application/vnd.jupyter.widget-view+json": {
       "model_id": "0026cb026b7943d395645c82d80df292",
       "version_major": 2,
       "version_minor": 0
      },
      "text/plain": [
       "Downloading (…)00013-of-00033.bin\";:   0%|          | 0.00/405M [00:00<?, ?B/s]"
      ]
     },
     "metadata": {},
     "output_type": "display_data"
    },
    {
     "data": {
      "application/vnd.jupyter.widget-view+json": {
       "model_id": "fbaf80c81dae486091ee7aaaa50aea72",
       "version_major": 2,
       "version_minor": 0
      },
      "text/plain": [
       "Downloading (…)00014-of-00033.bin\";:   0%|          | 0.00/405M [00:00<?, ?B/s]"
      ]
     },
     "metadata": {},
     "output_type": "display_data"
    },
    {
     "data": {
      "application/vnd.jupyter.widget-view+json": {
       "model_id": "c929255530ca496788a97dbda1dd6d4b",
       "version_major": 2,
       "version_minor": 0
      },
      "text/plain": [
       "Downloading (…)00016-of-00033.bin\";:   0%|          | 0.00/405M [00:00<?, ?B/s]"
      ]
     },
     "metadata": {},
     "output_type": "display_data"
    },
    {
     "data": {
      "application/vnd.jupyter.widget-view+json": {
       "model_id": "570668a2b2a94db6b016e256fc471cf9",
       "version_major": 2,
       "version_minor": 0
      },
      "text/plain": [
       "Downloading (…)00018-of-00033.bin\";:   0%|          | 0.00/405M [00:00<?, ?B/s]"
      ]
     },
     "metadata": {},
     "output_type": "display_data"
    },
    {
     "data": {
      "application/vnd.jupyter.widget-view+json": {
       "model_id": "762fc63c722f439cad9aaca05e5a306d",
       "version_major": 2,
       "version_minor": 0
      },
      "text/plain": [
       "Downloading (…)00021-of-00033.bin\";:   0%|          | 0.00/405M [00:00<?, ?B/s]"
      ]
     },
     "metadata": {},
     "output_type": "display_data"
    },
    {
     "data": {
      "application/vnd.jupyter.widget-view+json": {
       "model_id": "6d13148767b9411f987aeb74c161e813",
       "version_major": 2,
       "version_minor": 0
      },
      "text/plain": [
       "Downloading (…)00020-of-00033.bin\";:   0%|          | 0.00/405M [00:00<?, ?B/s]"
      ]
     },
     "metadata": {},
     "output_type": "display_data"
    },
    {
     "data": {
      "application/vnd.jupyter.widget-view+json": {
       "model_id": "48cc971b2fbd43aaa86b863f93c18842",
       "version_major": 2,
       "version_minor": 0
      },
      "text/plain": [
       "Downloading (…)00017-of-00033.bin\";:   0%|          | 0.00/405M [00:00<?, ?B/s]"
      ]
     },
     "metadata": {},
     "output_type": "display_data"
    },
    {
     "data": {
      "application/vnd.jupyter.widget-view+json": {
       "model_id": "ce3eb088ca984f6e98932f87fb9c0836",
       "version_major": 2,
       "version_minor": 0
      },
      "text/plain": [
       "Downloading (…)00023-of-00033.bin\";:   0%|          | 0.00/405M [00:00<?, ?B/s]"
      ]
     },
     "metadata": {},
     "output_type": "display_data"
    },
    {
     "data": {
      "application/vnd.jupyter.widget-view+json": {
       "model_id": "54cd609201184fe79420d86a06fc3aee",
       "version_major": 2,
       "version_minor": 0
      },
      "text/plain": [
       "Downloading (…)00019-of-00033.bin\";:   0%|          | 0.00/405M [00:00<?, ?B/s]"
      ]
     },
     "metadata": {},
     "output_type": "display_data"
    },
    {
     "data": {
      "application/vnd.jupyter.widget-view+json": {
       "model_id": "021c170a80b7429d992d41f38fd8613f",
       "version_major": 2,
       "version_minor": 0
      },
      "text/plain": [
       "Downloading (…)00022-of-00033.bin\";:   0%|          | 0.00/405M [00:00<?, ?B/s]"
      ]
     },
     "metadata": {},
     "output_type": "display_data"
    },
    {
     "data": {
      "application/vnd.jupyter.widget-view+json": {
       "model_id": "77c66725b1554b8dac4dddabe5643b51",
       "version_major": 2,
       "version_minor": 0
      },
      "text/plain": [
       "Downloading (…)00024-of-00033.bin\";:   0%|          | 0.00/405M [00:00<?, ?B/s]"
      ]
     },
     "metadata": {},
     "output_type": "display_data"
    },
    {
     "data": {
      "application/vnd.jupyter.widget-view+json": {
       "model_id": "f394567fe46b42449ad75c774e268e22",
       "version_major": 2,
       "version_minor": 0
      },
      "text/plain": [
       "Downloading (…)00028-of-00033.bin\";:   0%|          | 0.00/405M [00:00<?, ?B/s]"
      ]
     },
     "metadata": {},
     "output_type": "display_data"
    },
    {
     "data": {
      "application/vnd.jupyter.widget-view+json": {
       "model_id": "cfd92d7e162b476781e865015ed4acb0",
       "version_major": 2,
       "version_minor": 0
      },
      "text/plain": [
       "Downloading (…)00027-of-00033.bin\";:   0%|          | 0.00/405M [00:00<?, ?B/s]"
      ]
     },
     "metadata": {},
     "output_type": "display_data"
    },
    {
     "data": {
      "application/vnd.jupyter.widget-view+json": {
       "model_id": "5ea268aa674c46d3875371dc5db5708a",
       "version_major": 2,
       "version_minor": 0
      },
      "text/plain": [
       "Downloading (…)00031-of-00033.bin\";:   0%|          | 0.00/405M [00:00<?, ?B/s]"
      ]
     },
     "metadata": {},
     "output_type": "display_data"
    },
    {
     "data": {
      "application/vnd.jupyter.widget-view+json": {
       "model_id": "5ed0e07ab7194323b5c871ba834a890b",
       "version_major": 2,
       "version_minor": 0
      },
      "text/plain": [
       "Downloading (…)00029-of-00033.bin\";:   0%|          | 0.00/405M [00:00<?, ?B/s]"
      ]
     },
     "metadata": {},
     "output_type": "display_data"
    },
    {
     "data": {
      "application/vnd.jupyter.widget-view+json": {
       "model_id": "86fb12cb36894cdcaabb4276018e9e5c",
       "version_major": 2,
       "version_minor": 0
      },
      "text/plain": [
       "Downloading (…)00026-of-00033.bin\";:   0%|          | 0.00/405M [00:00<?, ?B/s]"
      ]
     },
     "metadata": {},
     "output_type": "display_data"
    },
    {
     "data": {
      "application/vnd.jupyter.widget-view+json": {
       "model_id": "724c3e8dda8e4f2b9dd4e8b67c7c4268",
       "version_major": 2,
       "version_minor": 0
      },
      "text/plain": [
       "Downloading (…)00032-of-00033.bin\";:   0%|          | 0.00/405M [00:00<?, ?B/s]"
      ]
     },
     "metadata": {},
     "output_type": "display_data"
    },
    {
     "data": {
      "application/vnd.jupyter.widget-view+json": {
       "model_id": "8d3cbce2c127436c91cfb41ab3f8f246",
       "version_major": 2,
       "version_minor": 0
      },
      "text/plain": [
       "Downloading (…)00030-of-00033.bin\";:   0%|          | 0.00/405M [00:00<?, ?B/s]"
      ]
     },
     "metadata": {},
     "output_type": "display_data"
    },
    {
     "data": {
      "application/vnd.jupyter.widget-view+json": {
       "model_id": "eadbe923ebae4fb4ab2458089def631b",
       "version_major": 2,
       "version_minor": 0
      },
      "text/plain": [
       "Downloading (…)00025-of-00033.bin\";:   0%|          | 0.00/405M [00:00<?, ?B/s]"
      ]
     },
     "metadata": {},
     "output_type": "display_data"
    },
    {
     "data": {
      "application/vnd.jupyter.widget-view+json": {
       "model_id": "19aecc2ce0a44b73b7a704b9f48f2477",
       "version_major": 2,
       "version_minor": 0
      },
      "text/plain": [
       "Downloading (…)00033-of-00033.bin\";:   0%|          | 0.00/524M [00:00<?, ?B/s]"
      ]
     },
     "metadata": {},
     "output_type": "display_data"
    },
    {
     "data": {
      "application/vnd.jupyter.widget-view+json": {
       "model_id": "bdb46acbff814f1c817d17000a10b3f9",
       "version_major": 2,
       "version_minor": 0
      },
      "text/plain": [
       "Downloading (…)model.bin.index.json:   0%|          | 0.00/25.5k [00:00<?, ?B/s]"
      ]
     },
     "metadata": {},
     "output_type": "display_data"
    },
    {
     "data": {
      "application/vnd.jupyter.widget-view+json": {
       "model_id": "38569b4c71f24aa297b869335d7f23e0",
       "version_major": 2,
       "version_minor": 0
      },
      "text/plain": [
       "Downloading (…)\"tokenizer.model\";:   0%|          | 0.00/500k [00:00<?, ?B/s]"
      ]
     },
     "metadata": {},
     "output_type": "display_data"
    },
    {
     "data": {
      "application/vnd.jupyter.widget-view+json": {
       "model_id": "ef248ef2408f453194ce78d648e5f8e4",
       "version_major": 2,
       "version_minor": 0
      },
      "text/plain": [
       "Downloading (…)cial_tokens_map.json:   0%|          | 0.00/2.00 [00:00<?, ?B/s]"
      ]
     },
     "metadata": {},
     "output_type": "display_data"
    },
    {
     "data": {
      "application/vnd.jupyter.widget-view+json": {
       "model_id": "1c1656dfbeb4418cb2df90e17f09b2e1",
       "version_major": 2,
       "version_minor": 0
      },
      "text/plain": [
       "Downloading (…)okenizer_config.json:   0%|          | 0.00/141 [00:00<?, ?B/s]"
      ]
     },
     "metadata": {},
     "output_type": "display_data"
    },
    {
     "data": {
      "text/plain": [
       "'J:/Weights/llama-7b-hf\\\\models--decapoda-research--llama-7b-hf\\\\snapshots\\\\5f98eefcc80e437ef68d457ad7bf167c2c6a1348'"
      ]
     },
     "execution_count": 55,
     "metadata": {},
     "output_type": "execute_result"
    }
   ],
   "source": [
    "huggingface_hub.snapshot_download(repo_id='decapoda-research/llama-7b-hf', cache_dir='J:/Weights/llama-7b-hf')"
   ]
  },
  {
   "cell_type": "code",
   "execution_count": 56,
   "metadata": {},
   "outputs": [
    {
     "data": {
      "application/vnd.jupyter.widget-view+json": {
       "model_id": "356d6e16169d48ce99a945a912bb5247",
       "version_major": 2,
       "version_minor": 0
      },
      "text/plain": [
       "Fetching 4 files:   0%|          | 0/4 [00:00<?, ?it/s]"
      ]
     },
     "metadata": {},
     "output_type": "display_data"
    },
    {
     "data": {
      "application/vnd.jupyter.widget-view+json": {
       "model_id": "4bac02c6f4e345efab8ab3614c3ba763",
       "version_major": 2,
       "version_minor": 0
      },
      "text/plain": [
       "Downloading (…)78aae9b0b1/README.md:   0%|          | 0.00/310 [00:00<?, ?B/s]"
      ]
     },
     "metadata": {},
     "output_type": "display_data"
    },
    {
     "data": {
      "application/vnd.jupyter.widget-view+json": {
       "model_id": "6b4bb669c8704f42a648da2a6f96612e",
       "version_major": 2,
       "version_minor": 0
      },
      "text/plain": [
       "Downloading (…)9b0b1/.gitattributes:   0%|          | 0.00/1.48k [00:00<?, ?B/s]"
      ]
     },
     "metadata": {},
     "output_type": "display_data"
    },
    {
     "data": {
      "application/vnd.jupyter.widget-view+json": {
       "model_id": "02e70155f6cc4a7f8da87dd330b5d689",
       "version_major": 2,
       "version_minor": 0
      },
      "text/plain": [
       "Downloading (…)/adapter_config.json:   0%|          | 0.00/370 [00:00<?, ?B/s]"
      ]
     },
     "metadata": {},
     "output_type": "display_data"
    },
    {
     "data": {
      "application/vnd.jupyter.widget-view+json": {
       "model_id": "787cc9c05d2440cb8d5859b9b3c09f09",
       "version_major": 2,
       "version_minor": 0
      },
      "text/plain": [
       "Downloading (…)\"adapter_model.bin\";:   0%|          | 0.00/16.8M [00:00<?, ?B/s]"
      ]
     },
     "metadata": {},
     "output_type": "display_data"
    },
    {
     "name": "stderr",
     "output_type": "stream",
     "text": [
      "c:\\users\\yamih\\appdata\\local\\programs\\python\\python39\\lib\\site-packages\\huggingface_hub\\file_download.py:129: UserWarning: `huggingface_hub` cache-system uses symlinks by default to efficiently store duplicated files but your machine does not support them in J:\\Weights\\alpaca-lora-7b. Caching files will still work but in a degraded version that might require more space on your disk. This warning can be disabled by setting the `HF_HUB_DISABLE_SYMLINKS_WARNING` environment variable. For more details, see https://huggingface.co/docs/huggingface_hub/how-to-cache#limitations.\n",
      "To support symlinks on Windows, you either need to activate Developer Mode or to run Python as an administrator. In order to see activate developer mode, see this article: https://docs.microsoft.com/en-us/windows/apps/get-started/enable-your-device-for-development\n",
      "  warnings.warn(message)\n"
     ]
    },
    {
     "ename": "OSError",
     "evalue": "[WinError 1314] Клиент не обладает требуемыми правами: '..\\\\..\\\\blobs\\\\c7d9f3332a950355d5a77d85000f05e6f45435ea' -> 'J:/Weights/alpaca-lora-7b\\\\models--tloen--alpaca-lora-7b\\\\snapshots\\\\4e4afc5a221b1ce66a5e7bef312e7578aae9b0b1\\\\.gitattributes'",
     "output_type": "error",
     "traceback": [
      "\u001b[1;31m---------------------------------------------------------------------------\u001b[0m",
      "\u001b[1;31mOSError\u001b[0m                                   Traceback (most recent call last)",
      "\u001b[1;32m<ipython-input-56-9ae125150e76>\u001b[0m in \u001b[0;36m<module>\u001b[1;34m\u001b[0m\n\u001b[1;32m----> 1\u001b[1;33m \u001b[0mhuggingface_hub\u001b[0m\u001b[1;33m.\u001b[0m\u001b[0msnapshot_download\u001b[0m\u001b[1;33m(\u001b[0m\u001b[0mrepo_id\u001b[0m\u001b[1;33m=\u001b[0m\u001b[1;34m'tloen/alpaca-lora-7b'\u001b[0m\u001b[1;33m,\u001b[0m \u001b[0mcache_dir\u001b[0m\u001b[1;33m=\u001b[0m\u001b[1;34m'J:/Weights/alpaca-lora-7b'\u001b[0m\u001b[1;33m)\u001b[0m\u001b[1;33m\u001b[0m\u001b[1;33m\u001b[0m\u001b[0m\n\u001b[0m",
      "\u001b[1;32mc:\\users\\yamih\\appdata\\local\\programs\\python\\python39\\lib\\site-packages\\huggingface_hub\\utils\\_validators.py\u001b[0m in \u001b[0;36m_inner_fn\u001b[1;34m(*args, **kwargs)\u001b[0m\n\u001b[0;32m    122\u001b[0m             )\n\u001b[0;32m    123\u001b[0m \u001b[1;33m\u001b[0m\u001b[0m\n\u001b[1;32m--> 124\u001b[1;33m         \u001b[1;32mreturn\u001b[0m \u001b[0mfn\u001b[0m\u001b[1;33m(\u001b[0m\u001b[1;33m*\u001b[0m\u001b[0margs\u001b[0m\u001b[1;33m,\u001b[0m \u001b[1;33m**\u001b[0m\u001b[0mkwargs\u001b[0m\u001b[1;33m)\u001b[0m\u001b[1;33m\u001b[0m\u001b[1;33m\u001b[0m\u001b[0m\n\u001b[0m\u001b[0;32m    125\u001b[0m \u001b[1;33m\u001b[0m\u001b[0m\n\u001b[0;32m    126\u001b[0m     \u001b[1;32mreturn\u001b[0m \u001b[0m_inner_fn\u001b[0m  \u001b[1;31m# type: ignore\u001b[0m\u001b[1;33m\u001b[0m\u001b[1;33m\u001b[0m\u001b[0m\n",
      "\u001b[1;32mc:\\users\\yamih\\appdata\\local\\programs\\python\\python39\\lib\\site-packages\\huggingface_hub\\_snapshot_download.py\u001b[0m in \u001b[0;36msnapshot_download\u001b[1;34m(repo_id, revision, repo_type, cache_dir, library_name, library_version, user_agent, proxies, etag_timeout, resume_download, token, local_files_only, allow_patterns, ignore_patterns, max_workers, tqdm_class)\u001b[0m\n\u001b[0;32m    213\u001b[0m             \u001b[0m_inner_hf_hub_download\u001b[0m\u001b[1;33m(\u001b[0m\u001b[0mfile\u001b[0m\u001b[1;33m)\u001b[0m\u001b[1;33m\u001b[0m\u001b[1;33m\u001b[0m\u001b[0m\n\u001b[0;32m    214\u001b[0m     \u001b[1;32melse\u001b[0m\u001b[1;33m:\u001b[0m\u001b[1;33m\u001b[0m\u001b[1;33m\u001b[0m\u001b[0m\n\u001b[1;32m--> 215\u001b[1;33m         thread_map(\n\u001b[0m\u001b[0;32m    216\u001b[0m             \u001b[0m_inner_hf_hub_download\u001b[0m\u001b[1;33m,\u001b[0m\u001b[1;33m\u001b[0m\u001b[1;33m\u001b[0m\u001b[0m\n\u001b[0;32m    217\u001b[0m             \u001b[0mfiltered_repo_files\u001b[0m\u001b[1;33m,\u001b[0m\u001b[1;33m\u001b[0m\u001b[1;33m\u001b[0m\u001b[0m\n",
      "\u001b[1;32mc:\\users\\yamih\\appdata\\local\\programs\\python\\python39\\lib\\site-packages\\tqdm\\contrib\\concurrent.py\u001b[0m in \u001b[0;36mthread_map\u001b[1;34m(fn, *iterables, **tqdm_kwargs)\u001b[0m\n\u001b[0;32m     92\u001b[0m     \"\"\"\n\u001b[0;32m     93\u001b[0m     \u001b[1;32mfrom\u001b[0m \u001b[0mconcurrent\u001b[0m\u001b[1;33m.\u001b[0m\u001b[0mfutures\u001b[0m \u001b[1;32mimport\u001b[0m \u001b[0mThreadPoolExecutor\u001b[0m\u001b[1;33m\u001b[0m\u001b[1;33m\u001b[0m\u001b[0m\n\u001b[1;32m---> 94\u001b[1;33m     \u001b[1;32mreturn\u001b[0m \u001b[0m_executor_map\u001b[0m\u001b[1;33m(\u001b[0m\u001b[0mThreadPoolExecutor\u001b[0m\u001b[1;33m,\u001b[0m \u001b[0mfn\u001b[0m\u001b[1;33m,\u001b[0m \u001b[1;33m*\u001b[0m\u001b[0miterables\u001b[0m\u001b[1;33m,\u001b[0m \u001b[1;33m**\u001b[0m\u001b[0mtqdm_kwargs\u001b[0m\u001b[1;33m)\u001b[0m\u001b[1;33m\u001b[0m\u001b[1;33m\u001b[0m\u001b[0m\n\u001b[0m\u001b[0;32m     95\u001b[0m \u001b[1;33m\u001b[0m\u001b[0m\n\u001b[0;32m     96\u001b[0m \u001b[1;33m\u001b[0m\u001b[0m\n",
      "\u001b[1;32mc:\\users\\yamih\\appdata\\local\\programs\\python\\python39\\lib\\site-packages\\tqdm\\contrib\\concurrent.py\u001b[0m in \u001b[0;36m_executor_map\u001b[1;34m(PoolExecutor, fn, *iterables, **tqdm_kwargs)\u001b[0m\n\u001b[0;32m     74\u001b[0m             \u001b[0mmap_args\u001b[0m\u001b[1;33m.\u001b[0m\u001b[0mupdate\u001b[0m\u001b[1;33m(\u001b[0m\u001b[0mchunksize\u001b[0m\u001b[1;33m=\u001b[0m\u001b[0mchunksize\u001b[0m\u001b[1;33m)\u001b[0m\u001b[1;33m\u001b[0m\u001b[1;33m\u001b[0m\u001b[0m\n\u001b[0;32m     75\u001b[0m         \u001b[1;32mwith\u001b[0m \u001b[0mPoolExecutor\u001b[0m\u001b[1;33m(\u001b[0m\u001b[1;33m**\u001b[0m\u001b[0mpool_kwargs\u001b[0m\u001b[1;33m)\u001b[0m \u001b[1;32mas\u001b[0m \u001b[0mex\u001b[0m\u001b[1;33m:\u001b[0m\u001b[1;33m\u001b[0m\u001b[1;33m\u001b[0m\u001b[0m\n\u001b[1;32m---> 76\u001b[1;33m             \u001b[1;32mreturn\u001b[0m \u001b[0mlist\u001b[0m\u001b[1;33m(\u001b[0m\u001b[0mtqdm_class\u001b[0m\u001b[1;33m(\u001b[0m\u001b[0mex\u001b[0m\u001b[1;33m.\u001b[0m\u001b[0mmap\u001b[0m\u001b[1;33m(\u001b[0m\u001b[0mfn\u001b[0m\u001b[1;33m,\u001b[0m \u001b[1;33m*\u001b[0m\u001b[0miterables\u001b[0m\u001b[1;33m,\u001b[0m \u001b[1;33m**\u001b[0m\u001b[0mmap_args\u001b[0m\u001b[1;33m)\u001b[0m\u001b[1;33m,\u001b[0m \u001b[1;33m**\u001b[0m\u001b[0mkwargs\u001b[0m\u001b[1;33m)\u001b[0m\u001b[1;33m)\u001b[0m\u001b[1;33m\u001b[0m\u001b[1;33m\u001b[0m\u001b[0m\n\u001b[0m\u001b[0;32m     77\u001b[0m \u001b[1;33m\u001b[0m\u001b[0m\n\u001b[0;32m     78\u001b[0m \u001b[1;33m\u001b[0m\u001b[0m\n",
      "\u001b[1;32mc:\\users\\yamih\\appdata\\local\\programs\\python\\python39\\lib\\site-packages\\tqdm\\notebook.py\u001b[0m in \u001b[0;36m__iter__\u001b[1;34m(self)\u001b[0m\n\u001b[0;32m    257\u001b[0m         \u001b[1;32mtry\u001b[0m\u001b[1;33m:\u001b[0m\u001b[1;33m\u001b[0m\u001b[1;33m\u001b[0m\u001b[0m\n\u001b[0;32m    258\u001b[0m             \u001b[0mit\u001b[0m \u001b[1;33m=\u001b[0m \u001b[0msuper\u001b[0m\u001b[1;33m(\u001b[0m\u001b[0mtqdm_notebook\u001b[0m\u001b[1;33m,\u001b[0m \u001b[0mself\u001b[0m\u001b[1;33m)\u001b[0m\u001b[1;33m.\u001b[0m\u001b[0m__iter__\u001b[0m\u001b[1;33m(\u001b[0m\u001b[1;33m)\u001b[0m\u001b[1;33m\u001b[0m\u001b[1;33m\u001b[0m\u001b[0m\n\u001b[1;32m--> 259\u001b[1;33m             \u001b[1;32mfor\u001b[0m \u001b[0mobj\u001b[0m \u001b[1;32min\u001b[0m \u001b[0mit\u001b[0m\u001b[1;33m:\u001b[0m\u001b[1;33m\u001b[0m\u001b[1;33m\u001b[0m\u001b[0m\n\u001b[0m\u001b[0;32m    260\u001b[0m                 \u001b[1;31m# return super(tqdm...) will not catch exception\u001b[0m\u001b[1;33m\u001b[0m\u001b[1;33m\u001b[0m\u001b[1;33m\u001b[0m\u001b[0m\n\u001b[0;32m    261\u001b[0m                 \u001b[1;32myield\u001b[0m \u001b[0mobj\u001b[0m\u001b[1;33m\u001b[0m\u001b[1;33m\u001b[0m\u001b[0m\n",
      "\u001b[1;32mc:\\users\\yamih\\appdata\\local\\programs\\python\\python39\\lib\\site-packages\\tqdm\\std.py\u001b[0m in \u001b[0;36m__iter__\u001b[1;34m(self)\u001b[0m\n\u001b[0;32m   1193\u001b[0m \u001b[1;33m\u001b[0m\u001b[0m\n\u001b[0;32m   1194\u001b[0m         \u001b[1;32mtry\u001b[0m\u001b[1;33m:\u001b[0m\u001b[1;33m\u001b[0m\u001b[1;33m\u001b[0m\u001b[0m\n\u001b[1;32m-> 1195\u001b[1;33m             \u001b[1;32mfor\u001b[0m \u001b[0mobj\u001b[0m \u001b[1;32min\u001b[0m \u001b[0miterable\u001b[0m\u001b[1;33m:\u001b[0m\u001b[1;33m\u001b[0m\u001b[1;33m\u001b[0m\u001b[0m\n\u001b[0m\u001b[0;32m   1196\u001b[0m                 \u001b[1;32myield\u001b[0m \u001b[0mobj\u001b[0m\u001b[1;33m\u001b[0m\u001b[1;33m\u001b[0m\u001b[0m\n\u001b[0;32m   1197\u001b[0m                 \u001b[1;31m# Update and possibly print the progressbar.\u001b[0m\u001b[1;33m\u001b[0m\u001b[1;33m\u001b[0m\u001b[1;33m\u001b[0m\u001b[0m\n",
      "\u001b[1;32mc:\\users\\yamih\\appdata\\local\\programs\\python\\python39\\lib\\concurrent\\futures\\_base.py\u001b[0m in \u001b[0;36mresult_iterator\u001b[1;34m()\u001b[0m\n\u001b[0;32m    598\u001b[0m                     \u001b[1;31m# Careful not to keep a reference to the popped future\u001b[0m\u001b[1;33m\u001b[0m\u001b[1;33m\u001b[0m\u001b[1;33m\u001b[0m\u001b[0m\n\u001b[0;32m    599\u001b[0m                     \u001b[1;32mif\u001b[0m \u001b[0mtimeout\u001b[0m \u001b[1;32mis\u001b[0m \u001b[1;32mNone\u001b[0m\u001b[1;33m:\u001b[0m\u001b[1;33m\u001b[0m\u001b[1;33m\u001b[0m\u001b[0m\n\u001b[1;32m--> 600\u001b[1;33m                         \u001b[1;32myield\u001b[0m \u001b[0mfs\u001b[0m\u001b[1;33m.\u001b[0m\u001b[0mpop\u001b[0m\u001b[1;33m(\u001b[0m\u001b[1;33m)\u001b[0m\u001b[1;33m.\u001b[0m\u001b[0mresult\u001b[0m\u001b[1;33m(\u001b[0m\u001b[1;33m)\u001b[0m\u001b[1;33m\u001b[0m\u001b[1;33m\u001b[0m\u001b[0m\n\u001b[0m\u001b[0;32m    601\u001b[0m                     \u001b[1;32melse\u001b[0m\u001b[1;33m:\u001b[0m\u001b[1;33m\u001b[0m\u001b[1;33m\u001b[0m\u001b[0m\n\u001b[0;32m    602\u001b[0m                         \u001b[1;32myield\u001b[0m \u001b[0mfs\u001b[0m\u001b[1;33m.\u001b[0m\u001b[0mpop\u001b[0m\u001b[1;33m(\u001b[0m\u001b[1;33m)\u001b[0m\u001b[1;33m.\u001b[0m\u001b[0mresult\u001b[0m\u001b[1;33m(\u001b[0m\u001b[0mend_time\u001b[0m \u001b[1;33m-\u001b[0m \u001b[0mtime\u001b[0m\u001b[1;33m.\u001b[0m\u001b[0mmonotonic\u001b[0m\u001b[1;33m(\u001b[0m\u001b[1;33m)\u001b[0m\u001b[1;33m)\u001b[0m\u001b[1;33m\u001b[0m\u001b[1;33m\u001b[0m\u001b[0m\n",
      "\u001b[1;32mc:\\users\\yamih\\appdata\\local\\programs\\python\\python39\\lib\\concurrent\\futures\\_base.py\u001b[0m in \u001b[0;36mresult\u001b[1;34m(self, timeout)\u001b[0m\n\u001b[0;32m    438\u001b[0m                 \u001b[1;32mraise\u001b[0m \u001b[0mCancelledError\u001b[0m\u001b[1;33m(\u001b[0m\u001b[1;33m)\u001b[0m\u001b[1;33m\u001b[0m\u001b[1;33m\u001b[0m\u001b[0m\n\u001b[0;32m    439\u001b[0m             \u001b[1;32melif\u001b[0m \u001b[0mself\u001b[0m\u001b[1;33m.\u001b[0m\u001b[0m_state\u001b[0m \u001b[1;33m==\u001b[0m \u001b[0mFINISHED\u001b[0m\u001b[1;33m:\u001b[0m\u001b[1;33m\u001b[0m\u001b[1;33m\u001b[0m\u001b[0m\n\u001b[1;32m--> 440\u001b[1;33m                 \u001b[1;32mreturn\u001b[0m \u001b[0mself\u001b[0m\u001b[1;33m.\u001b[0m\u001b[0m__get_result\u001b[0m\u001b[1;33m(\u001b[0m\u001b[1;33m)\u001b[0m\u001b[1;33m\u001b[0m\u001b[1;33m\u001b[0m\u001b[0m\n\u001b[0m\u001b[0;32m    441\u001b[0m             \u001b[1;32melse\u001b[0m\u001b[1;33m:\u001b[0m\u001b[1;33m\u001b[0m\u001b[1;33m\u001b[0m\u001b[0m\n\u001b[0;32m    442\u001b[0m                 \u001b[1;32mraise\u001b[0m \u001b[0mTimeoutError\u001b[0m\u001b[1;33m(\u001b[0m\u001b[1;33m)\u001b[0m\u001b[1;33m\u001b[0m\u001b[1;33m\u001b[0m\u001b[0m\n",
      "\u001b[1;32mc:\\users\\yamih\\appdata\\local\\programs\\python\\python39\\lib\\concurrent\\futures\\_base.py\u001b[0m in \u001b[0;36m__get_result\u001b[1;34m(self)\u001b[0m\n\u001b[0;32m    387\u001b[0m     \u001b[1;32mdef\u001b[0m \u001b[0m__get_result\u001b[0m\u001b[1;33m(\u001b[0m\u001b[0mself\u001b[0m\u001b[1;33m)\u001b[0m\u001b[1;33m:\u001b[0m\u001b[1;33m\u001b[0m\u001b[1;33m\u001b[0m\u001b[0m\n\u001b[0;32m    388\u001b[0m         \u001b[1;32mif\u001b[0m \u001b[0mself\u001b[0m\u001b[1;33m.\u001b[0m\u001b[0m_exception\u001b[0m\u001b[1;33m:\u001b[0m\u001b[1;33m\u001b[0m\u001b[1;33m\u001b[0m\u001b[0m\n\u001b[1;32m--> 389\u001b[1;33m             \u001b[1;32mraise\u001b[0m \u001b[0mself\u001b[0m\u001b[1;33m.\u001b[0m\u001b[0m_exception\u001b[0m\u001b[1;33m\u001b[0m\u001b[1;33m\u001b[0m\u001b[0m\n\u001b[0m\u001b[0;32m    390\u001b[0m         \u001b[1;32melse\u001b[0m\u001b[1;33m:\u001b[0m\u001b[1;33m\u001b[0m\u001b[1;33m\u001b[0m\u001b[0m\n\u001b[0;32m    391\u001b[0m             \u001b[1;32mreturn\u001b[0m \u001b[0mself\u001b[0m\u001b[1;33m.\u001b[0m\u001b[0m_result\u001b[0m\u001b[1;33m\u001b[0m\u001b[1;33m\u001b[0m\u001b[0m\n",
      "\u001b[1;32mc:\\users\\yamih\\appdata\\local\\programs\\python\\python39\\lib\\concurrent\\futures\\thread.py\u001b[0m in \u001b[0;36mrun\u001b[1;34m(self)\u001b[0m\n\u001b[0;32m     50\u001b[0m \u001b[1;33m\u001b[0m\u001b[0m\n\u001b[0;32m     51\u001b[0m         \u001b[1;32mtry\u001b[0m\u001b[1;33m:\u001b[0m\u001b[1;33m\u001b[0m\u001b[1;33m\u001b[0m\u001b[0m\n\u001b[1;32m---> 52\u001b[1;33m             \u001b[0mresult\u001b[0m \u001b[1;33m=\u001b[0m \u001b[0mself\u001b[0m\u001b[1;33m.\u001b[0m\u001b[0mfn\u001b[0m\u001b[1;33m(\u001b[0m\u001b[1;33m*\u001b[0m\u001b[0mself\u001b[0m\u001b[1;33m.\u001b[0m\u001b[0margs\u001b[0m\u001b[1;33m,\u001b[0m \u001b[1;33m**\u001b[0m\u001b[0mself\u001b[0m\u001b[1;33m.\u001b[0m\u001b[0mkwargs\u001b[0m\u001b[1;33m)\u001b[0m\u001b[1;33m\u001b[0m\u001b[1;33m\u001b[0m\u001b[0m\n\u001b[0m\u001b[0;32m     53\u001b[0m         \u001b[1;32mexcept\u001b[0m \u001b[0mBaseException\u001b[0m \u001b[1;32mas\u001b[0m \u001b[0mexc\u001b[0m\u001b[1;33m:\u001b[0m\u001b[1;33m\u001b[0m\u001b[1;33m\u001b[0m\u001b[0m\n\u001b[0;32m     54\u001b[0m             \u001b[0mself\u001b[0m\u001b[1;33m.\u001b[0m\u001b[0mfuture\u001b[0m\u001b[1;33m.\u001b[0m\u001b[0mset_exception\u001b[0m\u001b[1;33m(\u001b[0m\u001b[0mexc\u001b[0m\u001b[1;33m)\u001b[0m\u001b[1;33m\u001b[0m\u001b[1;33m\u001b[0m\u001b[0m\n",
      "\u001b[1;32mc:\\users\\yamih\\appdata\\local\\programs\\python\\python39\\lib\\site-packages\\huggingface_hub\\_snapshot_download.py\u001b[0m in \u001b[0;36m_inner_hf_hub_download\u001b[1;34m(repo_file)\u001b[0m\n\u001b[0;32m    192\u001b[0m     \u001b[1;31m# have the file locally.\u001b[0m\u001b[1;33m\u001b[0m\u001b[1;33m\u001b[0m\u001b[1;33m\u001b[0m\u001b[0m\n\u001b[0;32m    193\u001b[0m     \u001b[1;32mdef\u001b[0m \u001b[0m_inner_hf_hub_download\u001b[0m\u001b[1;33m(\u001b[0m\u001b[0mrepo_file\u001b[0m\u001b[1;33m:\u001b[0m \u001b[0mstr\u001b[0m\u001b[1;33m)\u001b[0m\u001b[1;33m:\u001b[0m\u001b[1;33m\u001b[0m\u001b[1;33m\u001b[0m\u001b[0m\n\u001b[1;32m--> 194\u001b[1;33m         return hf_hub_download(\n\u001b[0m\u001b[0;32m    195\u001b[0m             \u001b[0mrepo_id\u001b[0m\u001b[1;33m,\u001b[0m\u001b[1;33m\u001b[0m\u001b[1;33m\u001b[0m\u001b[0m\n\u001b[0;32m    196\u001b[0m             \u001b[0mfilename\u001b[0m\u001b[1;33m=\u001b[0m\u001b[0mrepo_file\u001b[0m\u001b[1;33m,\u001b[0m\u001b[1;33m\u001b[0m\u001b[1;33m\u001b[0m\u001b[0m\n",
      "\u001b[1;32mc:\\users\\yamih\\appdata\\local\\programs\\python\\python39\\lib\\site-packages\\huggingface_hub\\utils\\_validators.py\u001b[0m in \u001b[0;36m_inner_fn\u001b[1;34m(*args, **kwargs)\u001b[0m\n\u001b[0;32m    122\u001b[0m             )\n\u001b[0;32m    123\u001b[0m \u001b[1;33m\u001b[0m\u001b[0m\n\u001b[1;32m--> 124\u001b[1;33m         \u001b[1;32mreturn\u001b[0m \u001b[0mfn\u001b[0m\u001b[1;33m(\u001b[0m\u001b[1;33m*\u001b[0m\u001b[0margs\u001b[0m\u001b[1;33m,\u001b[0m \u001b[1;33m**\u001b[0m\u001b[0mkwargs\u001b[0m\u001b[1;33m)\u001b[0m\u001b[1;33m\u001b[0m\u001b[1;33m\u001b[0m\u001b[0m\n\u001b[0m\u001b[0;32m    125\u001b[0m \u001b[1;33m\u001b[0m\u001b[0m\n\u001b[0;32m    126\u001b[0m     \u001b[1;32mreturn\u001b[0m \u001b[0m_inner_fn\u001b[0m  \u001b[1;31m# type: ignore\u001b[0m\u001b[1;33m\u001b[0m\u001b[1;33m\u001b[0m\u001b[0m\n",
      "\u001b[1;32mc:\\users\\yamih\\appdata\\local\\programs\\python\\python39\\lib\\site-packages\\huggingface_hub\\file_download.py\u001b[0m in \u001b[0;36mhf_hub_download\u001b[1;34m(repo_id, filename, subfolder, repo_type, revision, library_name, library_version, cache_dir, user_agent, force_download, force_filename, proxies, etag_timeout, resume_download, token, local_files_only, legacy_cache_layout)\u001b[0m\n\u001b[0;32m   1293\u001b[0m \u001b[1;33m\u001b[0m\u001b[0m\n\u001b[0;32m   1294\u001b[0m         \u001b[0mlogger\u001b[0m\u001b[1;33m.\u001b[0m\u001b[0minfo\u001b[0m\u001b[1;33m(\u001b[0m\u001b[1;34m\"creating pointer to %s from %s\"\u001b[0m\u001b[1;33m,\u001b[0m \u001b[0mblob_path\u001b[0m\u001b[1;33m,\u001b[0m \u001b[0mpointer_path\u001b[0m\u001b[1;33m)\u001b[0m\u001b[1;33m\u001b[0m\u001b[1;33m\u001b[0m\u001b[0m\n\u001b[1;32m-> 1295\u001b[1;33m         \u001b[0m_create_relative_symlink\u001b[0m\u001b[1;33m(\u001b[0m\u001b[0mblob_path\u001b[0m\u001b[1;33m,\u001b[0m \u001b[0mpointer_path\u001b[0m\u001b[1;33m,\u001b[0m \u001b[0mnew_blob\u001b[0m\u001b[1;33m=\u001b[0m\u001b[1;32mTrue\u001b[0m\u001b[1;33m)\u001b[0m\u001b[1;33m\u001b[0m\u001b[1;33m\u001b[0m\u001b[0m\n\u001b[0m\u001b[0;32m   1296\u001b[0m \u001b[1;33m\u001b[0m\u001b[0m\n\u001b[0;32m   1297\u001b[0m     \u001b[1;32mtry\u001b[0m\u001b[1;33m:\u001b[0m\u001b[1;33m\u001b[0m\u001b[1;33m\u001b[0m\u001b[0m\n",
      "\u001b[1;32mc:\\users\\yamih\\appdata\\local\\programs\\python\\python39\\lib\\site-packages\\huggingface_hub\\file_download.py\u001b[0m in \u001b[0;36m_create_relative_symlink\u001b[1;34m(src, dst, new_blob)\u001b[0m\n\u001b[0;32m    849\u001b[0m         \u001b[0mrelative_src\u001b[0m \u001b[1;33m=\u001b[0m \u001b[0mos\u001b[0m\u001b[1;33m.\u001b[0m\u001b[0mpath\u001b[0m\u001b[1;33m.\u001b[0m\u001b[0mrelpath\u001b[0m\u001b[1;33m(\u001b[0m\u001b[0msrc\u001b[0m\u001b[1;33m,\u001b[0m \u001b[0mstart\u001b[0m\u001b[1;33m=\u001b[0m\u001b[0mos\u001b[0m\u001b[1;33m.\u001b[0m\u001b[0mpath\u001b[0m\u001b[1;33m.\u001b[0m\u001b[0mdirname\u001b[0m\u001b[1;33m(\u001b[0m\u001b[0mdst\u001b[0m\u001b[1;33m)\u001b[0m\u001b[1;33m)\u001b[0m\u001b[1;33m\u001b[0m\u001b[1;33m\u001b[0m\u001b[0m\n\u001b[0;32m    850\u001b[0m         \u001b[1;32mtry\u001b[0m\u001b[1;33m:\u001b[0m\u001b[1;33m\u001b[0m\u001b[1;33m\u001b[0m\u001b[0m\n\u001b[1;32m--> 851\u001b[1;33m             \u001b[0mos\u001b[0m\u001b[1;33m.\u001b[0m\u001b[0msymlink\u001b[0m\u001b[1;33m(\u001b[0m\u001b[0mrelative_src\u001b[0m\u001b[1;33m,\u001b[0m \u001b[0mdst\u001b[0m\u001b[1;33m)\u001b[0m\u001b[1;33m\u001b[0m\u001b[1;33m\u001b[0m\u001b[0m\n\u001b[0m\u001b[0;32m    852\u001b[0m         \u001b[1;32mexcept\u001b[0m \u001b[0mFileExistsError\u001b[0m\u001b[1;33m:\u001b[0m\u001b[1;33m\u001b[0m\u001b[1;33m\u001b[0m\u001b[0m\n\u001b[0;32m    853\u001b[0m             \u001b[1;32mif\u001b[0m \u001b[0mos\u001b[0m\u001b[1;33m.\u001b[0m\u001b[0mpath\u001b[0m\u001b[1;33m.\u001b[0m\u001b[0mislink\u001b[0m\u001b[1;33m(\u001b[0m\u001b[0mdst\u001b[0m\u001b[1;33m)\u001b[0m \u001b[1;32mand\u001b[0m \u001b[0mos\u001b[0m\u001b[1;33m.\u001b[0m\u001b[0mpath\u001b[0m\u001b[1;33m.\u001b[0m\u001b[0mrealpath\u001b[0m\u001b[1;33m(\u001b[0m\u001b[0mdst\u001b[0m\u001b[1;33m)\u001b[0m \u001b[1;33m==\u001b[0m \u001b[0mos\u001b[0m\u001b[1;33m.\u001b[0m\u001b[0mpath\u001b[0m\u001b[1;33m.\u001b[0m\u001b[0mrealpath\u001b[0m\u001b[1;33m(\u001b[0m\u001b[0msrc\u001b[0m\u001b[1;33m)\u001b[0m\u001b[1;33m:\u001b[0m\u001b[1;33m\u001b[0m\u001b[1;33m\u001b[0m\u001b[0m\n",
      "\u001b[1;31mOSError\u001b[0m: [WinError 1314] Клиент не обладает требуемыми правами: '..\\\\..\\\\blobs\\\\c7d9f3332a950355d5a77d85000f05e6f45435ea' -> 'J:/Weights/alpaca-lora-7b\\\\models--tloen--alpaca-lora-7b\\\\snapshots\\\\4e4afc5a221b1ce66a5e7bef312e7578aae9b0b1\\\\.gitattributes'"
     ]
    }
   ],
   "source": [
    "huggingface_hub.snapshot_download(repo_id='tloen/alpaca-lora-7b', cache_dir='J:/Weights/alpaca-lora-7b')"
   ]
  },
  {
   "cell_type": "code",
   "execution_count": 58,
   "metadata": {},
   "outputs": [
    {
     "data": {
      "application/vnd.jupyter.widget-view+json": {
       "model_id": "628b49aea76445d695f3b8ec8e70a055",
       "version_major": 2,
       "version_minor": 0
      },
      "text/plain": [
       "Fetching 50 files:   0%|          | 0/50 [00:00<?, ?it/s]"
      ]
     },
     "metadata": {},
     "output_type": "display_data"
    },
    {
     "data": {
      "application/vnd.jupyter.widget-view+json": {
       "model_id": "58e487d03bac432da4d1fc83ca0c6d56",
       "version_major": 2,
       "version_minor": 0
      },
      "text/plain": [
       "Downloading (…)00007-of-00041.bin\";:   0%|          | 0.00/952M [00:00<?, ?B/s]"
      ]
     },
     "metadata": {},
     "output_type": "display_data"
    },
    {
     "data": {
      "application/vnd.jupyter.widget-view+json": {
       "model_id": "dd80c4e4c80c4ec590c4092971784775",
       "version_major": 2,
       "version_minor": 0
      },
      "text/plain": [
       "Downloading (…)00006-of-00041.bin\";:   0%|          | 0.00/952M [00:00<?, ?B/s]"
      ]
     },
     "metadata": {},
     "output_type": "display_data"
    },
    {
     "data": {
      "application/vnd.jupyter.widget-view+json": {
       "model_id": "1070cf72d7b64eeaba86b00c692304ce",
       "version_major": 2,
       "version_minor": 0
      },
      "text/plain": [
       "Downloading (…)00009-of-00041.bin\";:   0%|          | 0.00/952M [00:00<?, ?B/s]"
      ]
     },
     "metadata": {},
     "output_type": "display_data"
    },
    {
     "data": {
      "application/vnd.jupyter.widget-view+json": {
       "model_id": "6a986a40934649e5a582de9ecc7dd449",
       "version_major": 2,
       "version_minor": 0
      },
      "text/plain": [
       "Downloading (…)00005-of-00041.bin\";:   0%|          | 0.00/952M [00:00<?, ?B/s]"
      ]
     },
     "metadata": {},
     "output_type": "display_data"
    },
    {
     "data": {
      "application/vnd.jupyter.widget-view+json": {
       "model_id": "1bcf9ca36f1b48f1a0c33a5eaf71d805",
       "version_major": 2,
       "version_minor": 0
      },
      "text/plain": [
       "Downloading (…)00008-of-00041.bin\";:   0%|          | 0.00/952M [00:00<?, ?B/s]"
      ]
     },
     "metadata": {},
     "output_type": "display_data"
    },
    {
     "data": {
      "application/vnd.jupyter.widget-view+json": {
       "model_id": "5f667c1fc1f64e1697fa63f156f0cb19",
       "version_major": 2,
       "version_minor": 0
      },
      "text/plain": [
       "Downloading (…)00004-of-00041.bin\";:   0%|          | 0.00/952M [00:00<?, ?B/s]"
      ]
     },
     "metadata": {},
     "output_type": "display_data"
    },
    {
     "data": {
      "application/vnd.jupyter.widget-view+json": {
       "model_id": "e5122c4cc8014120b8ff99a75216311e",
       "version_major": 2,
       "version_minor": 0
      },
      "text/plain": [
       "Downloading (…)00010-of-00041.bin\";:   0%|          | 0.00/952M [00:00<?, ?B/s]"
      ]
     },
     "metadata": {},
     "output_type": "display_data"
    },
    {
     "data": {
      "application/vnd.jupyter.widget-view+json": {
       "model_id": "2e9e94e29f0a40328f766f8fea3cfcbe",
       "version_major": 2,
       "version_minor": 0
      },
      "text/plain": [
       "Downloading (…)00011-of-00041.bin\";:   0%|          | 0.00/952M [00:00<?, ?B/s]"
      ]
     },
     "metadata": {},
     "output_type": "display_data"
    },
    {
     "data": {
      "application/vnd.jupyter.widget-view+json": {
       "model_id": "2ab626e90dfb4dbba6ba5433bcedf128",
       "version_major": 2,
       "version_minor": 0
      },
      "text/plain": [
       "Downloading (…)00012-of-00041.bin\";:   0%|          | 0.00/952M [00:00<?, ?B/s]"
      ]
     },
     "metadata": {},
     "output_type": "display_data"
    },
    {
     "data": {
      "application/vnd.jupyter.widget-view+json": {
       "model_id": "f7810f58abe44303a34c692e2ec55481",
       "version_major": 2,
       "version_minor": 0
      },
      "text/plain": [
       "Downloading (…)00015-of-00041.bin\";:   0%|          | 0.00/952M [00:00<?, ?B/s]"
      ]
     },
     "metadata": {},
     "output_type": "display_data"
    },
    {
     "data": {
      "application/vnd.jupyter.widget-view+json": {
       "model_id": "d074a70f4692482e8d993e76f3bce60e",
       "version_major": 2,
       "version_minor": 0
      },
      "text/plain": [
       "Downloading (…)00018-of-00041.bin\";:   0%|          | 0.00/952M [00:00<?, ?B/s]"
      ]
     },
     "metadata": {},
     "output_type": "display_data"
    },
    {
     "data": {
      "application/vnd.jupyter.widget-view+json": {
       "model_id": "9f6709ac8fc94b25a2c2879426d6efce",
       "version_major": 2,
       "version_minor": 0
      },
      "text/plain": [
       "Downloading (…)00016-of-00041.bin\";:   0%|          | 0.00/952M [00:00<?, ?B/s]"
      ]
     },
     "metadata": {},
     "output_type": "display_data"
    },
    {
     "data": {
      "application/vnd.jupyter.widget-view+json": {
       "model_id": "fa660042ba0c4229bd2779f5c837ca77",
       "version_major": 2,
       "version_minor": 0
      },
      "text/plain": [
       "Downloading (…)00017-of-00041.bin\";:   0%|          | 0.00/952M [00:00<?, ?B/s]"
      ]
     },
     "metadata": {},
     "output_type": "display_data"
    },
    {
     "data": {
      "application/vnd.jupyter.widget-view+json": {
       "model_id": "197e7fe28dd9402ebd9a4093c4fe7500",
       "version_major": 2,
       "version_minor": 0
      },
      "text/plain": [
       "Downloading (…)00014-of-00041.bin\";:   0%|          | 0.00/952M [00:00<?, ?B/s]"
      ]
     },
     "metadata": {},
     "output_type": "display_data"
    },
    {
     "data": {
      "application/vnd.jupyter.widget-view+json": {
       "model_id": "7ea21ae1a8df4f12aa8c2f5fd714ea74",
       "version_major": 2,
       "version_minor": 0
      },
      "text/plain": [
       "Downloading (…)00013-of-00041.bin\";:   0%|          | 0.00/952M [00:00<?, ?B/s]"
      ]
     },
     "metadata": {},
     "output_type": "display_data"
    },
    {
     "data": {
      "application/vnd.jupyter.widget-view+json": {
       "model_id": "695fa21f7daa44c9ac2912701ef45ade",
       "version_major": 2,
       "version_minor": 0
      },
      "text/plain": [
       "Downloading (…)00019-of-00041.bin\";:   0%|          | 0.00/952M [00:00<?, ?B/s]"
      ]
     },
     "metadata": {},
     "output_type": "display_data"
    },
    {
     "data": {
      "application/vnd.jupyter.widget-view+json": {
       "model_id": "580d11989cb34947abd9732a6fe99b56",
       "version_major": 2,
       "version_minor": 0
      },
      "text/plain": [
       "Downloading (…)00021-of-00041.bin\";:   0%|          | 0.00/952M [00:00<?, ?B/s]"
      ]
     },
     "metadata": {},
     "output_type": "display_data"
    },
    {
     "data": {
      "application/vnd.jupyter.widget-view+json": {
       "model_id": "d33dce4c916141198ca162e9f04bea11",
       "version_major": 2,
       "version_minor": 0
      },
      "text/plain": [
       "Downloading (…)00020-of-00041.bin\";:   0%|          | 0.00/952M [00:00<?, ?B/s]"
      ]
     },
     "metadata": {},
     "output_type": "display_data"
    },
    {
     "data": {
      "application/vnd.jupyter.widget-view+json": {
       "model_id": "4a768580f2964f028f073aa6231fab7c",
       "version_major": 2,
       "version_minor": 0
      },
      "text/plain": [
       "Downloading (…)00023-of-00041.bin\";:   0%|          | 0.00/952M [00:00<?, ?B/s]"
      ]
     },
     "metadata": {},
     "output_type": "display_data"
    },
    {
     "data": {
      "application/vnd.jupyter.widget-view+json": {
       "model_id": "9edd7b18f3c249869f02b49f7e0fedfb",
       "version_major": 2,
       "version_minor": 0
      },
      "text/plain": [
       "Downloading (…)00022-of-00041.bin\";:   0%|          | 0.00/952M [00:00<?, ?B/s]"
      ]
     },
     "metadata": {},
     "output_type": "display_data"
    },
    {
     "data": {
      "application/vnd.jupyter.widget-view+json": {
       "model_id": "f8b572bccbfb48b2b92154690e5c05f8",
       "version_major": 2,
       "version_minor": 0
      },
      "text/plain": [
       "Downloading (…)00024-of-00041.bin\";:   0%|          | 0.00/952M [00:00<?, ?B/s]"
      ]
     },
     "metadata": {},
     "output_type": "display_data"
    },
    {
     "data": {
      "application/vnd.jupyter.widget-view+json": {
       "model_id": "757a28c3ce8b478baeae036bd07a3091",
       "version_major": 2,
       "version_minor": 0
      },
      "text/plain": [
       "Downloading (…)00025-of-00041.bin\";:   0%|          | 0.00/952M [00:00<?, ?B/s]"
      ]
     },
     "metadata": {},
     "output_type": "display_data"
    },
    {
     "data": {
      "application/vnd.jupyter.widget-view+json": {
       "model_id": "a9a119929a5f444bacb2c1f7c0d6f93f",
       "version_major": 2,
       "version_minor": 0
      },
      "text/plain": [
       "Downloading (…)00026-of-00041.bin\";:   0%|          | 0.00/952M [00:00<?, ?B/s]"
      ]
     },
     "metadata": {},
     "output_type": "display_data"
    },
    {
     "data": {
      "application/vnd.jupyter.widget-view+json": {
       "model_id": "bc4e2fb6213249abb33f7688749f67ae",
       "version_major": 2,
       "version_minor": 0
      },
      "text/plain": [
       "Downloading (…)00027-of-00041.bin\";:   0%|          | 0.00/952M [00:00<?, ?B/s]"
      ]
     },
     "metadata": {},
     "output_type": "display_data"
    },
    {
     "data": {
      "application/vnd.jupyter.widget-view+json": {
       "model_id": "eb5d0d0782c04aaf9ed1088caba88005",
       "version_major": 2,
       "version_minor": 0
      },
      "text/plain": [
       "Downloading (…)00028-of-00041.bin\";:   0%|          | 0.00/952M [00:00<?, ?B/s]"
      ]
     },
     "metadata": {},
     "output_type": "display_data"
    },
    {
     "data": {
      "application/vnd.jupyter.widget-view+json": {
       "model_id": "633e6e190e7c44a496113a3383341b7a",
       "version_major": 2,
       "version_minor": 0
      },
      "text/plain": [
       "Downloading (…)00029-of-00041.bin\";:   0%|          | 0.00/952M [00:00<?, ?B/s]"
      ]
     },
     "metadata": {},
     "output_type": "display_data"
    },
    {
     "data": {
      "application/vnd.jupyter.widget-view+json": {
       "model_id": "f53a6d78df1140019353b8adbc45f1ff",
       "version_major": 2,
       "version_minor": 0
      },
      "text/plain": [
       "Downloading (…)00032-of-00041.bin\";:   0%|          | 0.00/952M [00:00<?, ?B/s]"
      ]
     },
     "metadata": {},
     "output_type": "display_data"
    },
    {
     "data": {
      "application/vnd.jupyter.widget-view+json": {
       "model_id": "72ee48d582cb40db98802d6c99729d7f",
       "version_major": 2,
       "version_minor": 0
      },
      "text/plain": [
       "Downloading (…)00030-of-00041.bin\";:   0%|          | 0.00/952M [00:00<?, ?B/s]"
      ]
     },
     "metadata": {},
     "output_type": "display_data"
    },
    {
     "data": {
      "application/vnd.jupyter.widget-view+json": {
       "model_id": "138a954946a944ce8715c88370d193bd",
       "version_major": 2,
       "version_minor": 0
      },
      "text/plain": [
       "Downloading (…)00033-of-00041.bin\";:   0%|          | 0.00/952M [00:00<?, ?B/s]"
      ]
     },
     "metadata": {},
     "output_type": "display_data"
    },
    {
     "data": {
      "application/vnd.jupyter.widget-view+json": {
       "model_id": "7169a21f8b7e4da48b02cf17b3725fdb",
       "version_major": 2,
       "version_minor": 0
      },
      "text/plain": [
       "Downloading (…)00031-of-00041.bin\";:   0%|          | 0.00/952M [00:00<?, ?B/s]"
      ]
     },
     "metadata": {},
     "output_type": "display_data"
    },
    {
     "data": {
      "application/vnd.jupyter.widget-view+json": {
       "model_id": "8c910653e2d948ebab7ad4a7282b0bc3",
       "version_major": 2,
       "version_minor": 0
      },
      "text/plain": [
       "Downloading (…)00034-of-00041.bin\";:   0%|          | 0.00/952M [00:00<?, ?B/s]"
      ]
     },
     "metadata": {},
     "output_type": "display_data"
    },
    {
     "data": {
      "application/vnd.jupyter.widget-view+json": {
       "model_id": "372942513266408d9b48a889ef79c499",
       "version_major": 2,
       "version_minor": 0
      },
      "text/plain": [
       "Downloading (…)00035-of-00041.bin\";:   0%|          | 0.00/952M [00:00<?, ?B/s]"
      ]
     },
     "metadata": {},
     "output_type": "display_data"
    },
    {
     "data": {
      "application/vnd.jupyter.widget-view+json": {
       "model_id": "626a41c00cb446c6a0302f568ea909bd",
       "version_major": 2,
       "version_minor": 0
      },
      "text/plain": [
       "Downloading (…)00036-of-00041.bin\";:   0%|          | 0.00/952M [00:00<?, ?B/s]"
      ]
     },
     "metadata": {},
     "output_type": "display_data"
    },
    {
     "data": {
      "application/vnd.jupyter.widget-view+json": {
       "model_id": "e2880f5a33834d14b1364e54b0114d89",
       "version_major": 2,
       "version_minor": 0
      },
      "text/plain": [
       "Downloading (…)00037-of-00041.bin\";:   0%|          | 0.00/952M [00:00<?, ?B/s]"
      ]
     },
     "metadata": {},
     "output_type": "display_data"
    },
    {
     "data": {
      "application/vnd.jupyter.widget-view+json": {
       "model_id": "83261ff4b9fd441e8ef5ac7888d0fe8e",
       "version_major": 2,
       "version_minor": 0
      },
      "text/plain": [
       "Downloading (…)00038-of-00041.bin\";:   0%|          | 0.00/952M [00:00<?, ?B/s]"
      ]
     },
     "metadata": {},
     "output_type": "display_data"
    },
    {
     "data": {
      "application/vnd.jupyter.widget-view+json": {
       "model_id": "0633b54e20fc43ad987bb2fe14b9c621",
       "version_major": 2,
       "version_minor": 0
      },
      "text/plain": [
       "Downloading (…)00040-of-00041.bin\";:   0%|          | 0.00/952M [00:00<?, ?B/s]"
      ]
     },
     "metadata": {},
     "output_type": "display_data"
    },
    {
     "data": {
      "application/vnd.jupyter.widget-view+json": {
       "model_id": "488aa4bdcf1f47f3a7096308cbb7b9e4",
       "version_major": 2,
       "version_minor": 0
      },
      "text/plain": [
       "Downloading (…)00041-of-00041.bin\";:   0%|          | 0.00/983M [00:00<?, ?B/s]"
      ]
     },
     "metadata": {},
     "output_type": "display_data"
    },
    {
     "data": {
      "application/vnd.jupyter.widget-view+json": {
       "model_id": "684f514ef43746ccb23e25327f9f81d4",
       "version_major": 2,
       "version_minor": 0
      },
      "text/plain": [
       "Downloading (…)00039-of-00041.bin\";:   0%|          | 0.00/952M [00:00<?, ?B/s]"
      ]
     },
     "metadata": {},
     "output_type": "display_data"
    },
    {
     "data": {
      "application/vnd.jupyter.widget-view+json": {
       "model_id": "062d5cc038c14dfb90b6932039a6aecd",
       "version_major": 2,
       "version_minor": 0
      },
      "text/plain": [
       "Downloading (…)cial_tokens_map.json:   0%|          | 0.00/2.00 [00:00<?, ?B/s]"
      ]
     },
     "metadata": {},
     "output_type": "display_data"
    },
    {
     "data": {
      "application/vnd.jupyter.widget-view+json": {
       "model_id": "d205e2b649c24a6fa183e1fad74c50a7",
       "version_major": 2,
       "version_minor": 0
      },
      "text/plain": [
       "Downloading (…)model.bin.index.json:   0%|          | 0.00/31.8k [00:00<?, ?B/s]"
      ]
     },
     "metadata": {},
     "output_type": "display_data"
    },
    {
     "data": {
      "application/vnd.jupyter.widget-view+json": {
       "model_id": "fc1fe5bd6c2145399b95735af678137a",
       "version_major": 2,
       "version_minor": 0
      },
      "text/plain": [
       "Downloading (…)\"tokenizer.model\";:   0%|          | 0.00/500k [00:00<?, ?B/s]"
      ]
     },
     "metadata": {},
     "output_type": "display_data"
    },
    {
     "data": {
      "application/vnd.jupyter.widget-view+json": {
       "model_id": "17638e84df794984bb06f759c8ef0498",
       "version_major": 2,
       "version_minor": 0
      },
      "text/plain": [
       "Downloading (…)okenizer_config.json:   0%|          | 0.00/141 [00:00<?, ?B/s]"
      ]
     },
     "metadata": {},
     "output_type": "display_data"
    },
    {
     "data": {
      "text/plain": [
       "'J:/Weights/llama-13b-hf\\\\models--decapoda-research--llama-13b-hf\\\\snapshots\\\\438770a656712a5072229b62256521845d4de5ce'"
      ]
     },
     "execution_count": 58,
     "metadata": {},
     "output_type": "execute_result"
    }
   ],
   "source": [
    "huggingface_hub.snapshot_download(\n",
    "    repo_id='decapoda-research/llama-13b-hf',\n",
    "    cache_dir='J:/Weights/llama-13b-hf',\n",
    "    ignore_patterns=['.gitattributes'])"
   ]
  },
  {
   "cell_type": "code",
   "execution_count": 60,
   "metadata": {},
   "outputs": [
    {
     "data": {
      "application/vnd.jupyter.widget-view+json": {
       "model_id": "6fdd9c88b706449683156f5fab548d38",
       "version_major": 2,
       "version_minor": 0
      },
      "text/plain": [
       "Fetching 2 files:   0%|          | 0/2 [00:00<?, ?it/s]"
      ]
     },
     "metadata": {},
     "output_type": "display_data"
    },
    {
     "data": {
      "text/plain": [
       "'J:/Weights/alpaca-lora-13b\\\\models--chansung--alpaca-lora-13b\\\\snapshots\\\\abcdddb2778cace16f184dc1dda0ecf21ade23bc'"
      ]
     },
     "execution_count": 60,
     "metadata": {},
     "output_type": "execute_result"
    }
   ],
   "source": [
    "huggingface_hub.snapshot_download(\n",
    "    repo_id='chansung/alpaca-lora-13b',\n",
    "    cache_dir='J:/Weights/alpaca-lora-13b',\n",
    "    ignore_patterns=['.gitattributes', 'README.MD'])"
   ]
  },
  {
   "cell_type": "code",
   "execution_count": null,
   "metadata": {},
   "outputs": [],
   "source": []
  }
 ],
 "metadata": {
  "kernelspec": {
   "display_name": "Python 3",
   "language": "python",
   "name": "python3"
  },
  "language_info": {
   "codemirror_mode": {
    "name": "ipython",
    "version": 3
   },
   "file_extension": ".py",
   "mimetype": "text/x-python",
   "name": "python",
   "nbconvert_exporter": "python",
   "pygments_lexer": "ipython3",
   "version": "3.9.1"
  }
 },
 "nbformat": 4,
 "nbformat_minor": 4
}
