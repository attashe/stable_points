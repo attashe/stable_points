{
 "cells": [
  {
   "cell_type": "code",
   "execution_count": 2,
   "metadata": {},
   "outputs": [],
   "source": [
    "\"\"\"Links:\n",
    "\n",
    "1. Armor\n",
    "    https://ru.wikipedia.org/wiki/%D0%A1%D1%82%D1%91%D0%B3%D0%B0%D0%BD%D0%BA%D0%B0 - статья про стёганку (гамбезон)\n",
    "\"\"\"\n",
    "\n",
    "class Weapon:\n",
    "    \n",
    "    def __init__(self, weapon_type, cost=10, quality=100):\n",
    "        pass\n",
    "\n",
    "\n",
    "class Armor:\n",
    "    \n",
    "    def __init__(self, armor_type='leather', armor_rate=5, cost=100, quality=100):\n",
    "        self.armor_type = armor_type  # gambeson | leather | wood | chainmail | bronze | steel\n",
    "        self.armor_rate = armor_rate\n",
    "        self.cost = cost\n",
    "        self.quality = quality\n",
    "        \n",
    "    def hit(self, weapon, angle, strength):\n",
    "        pass\n",
    "\n",
    "steel_helmet = Armor('steel', 10, 100)\n",
    "normal_gambeson = Armor('gambeson', 5, 20)\n",
    "\n",
    "        \n",
    "class Player:\n",
    "    \n",
    "    def __init__(self):\n",
    "        self.health = 10        \n",
    "        self.head = steel_helmet.copy()\n",
    "        self.chest = normal_gambeson.copy()\n",
    "        self.poise = 100\n",
    "        \n",
    "    def hit(self, player, weapon, distance, strength):\n",
    "        pass"
   ]
  },
  {
   "cell_type": "code",
   "execution_count": null,
   "metadata": {},
   "outputs": [],
   "source": [
    "player_1 = Player()\n",
    "player_2 = Player()"
   ]
  }
 ],
 "metadata": {
  "kernelspec": {
   "display_name": "Python 3",
   "language": "python",
   "name": "python3"
  },
  "language_info": {
   "codemirror_mode": {
    "name": "ipython",
    "version": 3
   },
   "file_extension": ".py",
   "mimetype": "text/x-python",
   "name": "python",
   "nbconvert_exporter": "python",
   "pygments_lexer": "ipython3",
   "version": "3.9.1"
  }
 },
 "nbformat": 4,
 "nbformat_minor": 4
}
